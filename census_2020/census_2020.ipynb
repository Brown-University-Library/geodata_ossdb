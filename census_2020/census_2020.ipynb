{
 "cells": [
  {
   "cell_type": "markdown",
   "metadata": {},
   "source": [
    "# Census 2020\n",
    "\n",
    "Retrieves data from the Census Bureau's 2020 Census API for zctas (not available in plrd), county subdivisions, and tracts. A specific list of census variables is passed into the script, which are retrieved from the public redistricting tables or profile table (latter coming at end of 2023). Variables must be retrieved in chunks because only 50 can be passed to the API at a time, and each url varies by geography and retreives them in different combinations. After some processing output is written to a SQLite database. An option to create a metadata table appears at the bottom, but should only be run once for a given extract (socialecon and pophousing) and not for each individual geography.\n",
    "\n",
    "https://www.census.gov/data/developers/data-sets/decennial-census.2020.html"
   ]
  },
  {
   "cell_type": "markdown",
   "metadata": {},
   "source": [
    "## Variables"
   ]
  },
  {
   "cell_type": "code",
   "execution_count": 1,
   "metadata": {},
   "outputs": [],
   "source": [
    "import os, requests, json, sqlite3, random, pandas as pd, numpy as np\n",
    "from IPython.display import clear_output"
   ]
  },
  {
   "cell_type": "code",
   "execution_count": 2,
   "metadata": {},
   "outputs": [],
   "source": [
    "keyfile='census_key.txt'\n",
    "\n",
    "#API variables - UPDATE THE YEAR AND GEO\n",
    "year='2020'\n",
    "geo='tract' # 'zip code tabulation area' or 'county subdivision' or 'tract'\n",
    "state='44'\n",
    "dsource='dec'\n",
    "dname='pl' # public law redistricting data\n",
    "\n",
    "#Variables to read in from spreadsheet - UPDATE WORKSHEET\n",
    "worksheet='plrd' # 'plrd'\n",
    "geoexcelsheet={'zip code tabulation area':'zctas', 'county subdivision':'county_subdivs', 'tract':'tracts'}\n",
    "geotype=geoexcelsheet.get(geo)\n",
    "\n",
    "#SQL output\n",
    "tabname='{}_census{}_{}'.format(geotype,year,worksheet)\n",
    "dbname=os.path.join('outputs','testdb.sqlite')\n",
    "\n",
    "#Dump files for api data storage\n",
    "jsonpath=os.path.join('outputs', tabname+'_retrieved_data.json')"
   ]
  },
  {
   "cell_type": "markdown",
   "metadata": {},
   "source": [
    "## Variable Lists\n",
    "Get full list of variables from the API, read in our retrieval list, and compare the varianle IDs and names to make sure nothing is missing and that nothing has changed since the last iteration. *Don't move on to the next block until both lists match.* Lastly, read in list of geographies."
   ]
  },
  {
   "cell_type": "code",
   "execution_count": 3,
   "metadata": {},
   "outputs": [
    {
     "data": {
      "text/plain": [
       "[('P1_003N',\n",
       "  {'label': ' !!Total:!!Population of one race:!!White alone',\n",
       "   'concept': 'RACE',\n",
       "   'predicateType': 'int',\n",
       "   'group': 'P1',\n",
       "   'limit': 0,\n",
       "   'attributes': 'P1_003NA'}),\n",
       " ('SUMLEVEL',\n",
       "  {'label': 'Summary Level code',\n",
       "   'predicateType': 'string',\n",
       "   'group': 'N/A',\n",
       "   'limit': 0})]"
      ]
     },
     "execution_count": 3,
     "metadata": {},
     "output_type": "execute_result"
    }
   ],
   "source": [
    "datadict={}\n",
    "vars_url = f'https://api.census.gov/data/{year}/{dsource}/{dname}/variables.json'\n",
    "response=requests.get(vars_url)\n",
    "var_data=response.json()\n",
    "datadict.update(var_data['variables'])\n",
    "random.sample(list(datadict.items()), 2)"
   ]
  },
  {
   "cell_type": "code",
   "execution_count": 4,
   "metadata": {},
   "outputs": [
    {
     "data": {
      "text/html": [
       "<div>\n",
       "<style scoped>\n",
       "    .dataframe tbody tr th:only-of-type {\n",
       "        vertical-align: middle;\n",
       "    }\n",
       "\n",
       "    .dataframe tbody tr th {\n",
       "        vertical-align: top;\n",
       "    }\n",
       "\n",
       "    .dataframe thead th {\n",
       "        text-align: right;\n",
       "    }\n",
       "</style>\n",
       "<table border=\"1\" class=\"dataframe\">\n",
       "  <thead>\n",
       "    <tr style=\"text-align: right;\">\n",
       "      <th></th>\n",
       "      <th>census_var</th>\n",
       "      <th>census_label</th>\n",
       "      <th>dtype</th>\n",
       "    </tr>\n",
       "  </thead>\n",
       "  <tbody>\n",
       "    <tr>\n",
       "      <th>0</th>\n",
       "      <td>H1_001N</td>\n",
       "      <td>OCCUPANCY STATUS!!Total:</td>\n",
       "      <td>int</td>\n",
       "    </tr>\n",
       "    <tr>\n",
       "      <th>1</th>\n",
       "      <td>H1_002N</td>\n",
       "      <td>OCCUPANCY STATUS!!Total:!!Occupied</td>\n",
       "      <td>int</td>\n",
       "    </tr>\n",
       "    <tr>\n",
       "      <th>2</th>\n",
       "      <td>H1_003N</td>\n",
       "      <td>OCCUPANCY STATUS!!Total:!!Vacant</td>\n",
       "      <td>int</td>\n",
       "    </tr>\n",
       "    <tr>\n",
       "      <th>3</th>\n",
       "      <td>P1_001N</td>\n",
       "      <td>RACE!!Total:</td>\n",
       "      <td>int</td>\n",
       "    </tr>\n",
       "    <tr>\n",
       "      <th>4</th>\n",
       "      <td>P1_003N</td>\n",
       "      <td>RACE!!Total:!!Population of one race:!!White a...</td>\n",
       "      <td>int</td>\n",
       "    </tr>\n",
       "  </tbody>\n",
       "</table>\n",
       "</div>"
      ],
      "text/plain": [
       "  census_var                                       census_label dtype\n",
       "0    H1_001N                           OCCUPANCY STATUS!!Total:   int\n",
       "1    H1_002N                 OCCUPANCY STATUS!!Total:!!Occupied   int\n",
       "2    H1_003N                   OCCUPANCY STATUS!!Total:!!Vacant   int\n",
       "3    P1_001N                                       RACE!!Total:   int\n",
       "4    P1_003N  RACE!!Total:!!Population of one race:!!White a...   int"
      ]
     },
     "execution_count": 4,
     "metadata": {},
     "output_type": "execute_result"
    }
   ],
   "source": [
    "dfexcel = pd.read_excel(os.path.join('inputs','dec2020_variables.xlsx'),sheet_name=worksheet)\n",
    "dfexcel.head()"
   ]
  },
  {
   "cell_type": "code",
   "execution_count": 5,
   "metadata": {},
   "outputs": [
    {
     "name": "stdout",
     "output_type": "stream",
     "text": [
      "There are an equal number of variables in both lists: 49\n"
     ]
    }
   ],
   "source": [
    "dfvars = pd.DataFrame.from_dict(datadict,columns=['label'],orient='index')\n",
    "dfvars_selected=dfvars.loc[dfvars.index.isin(dfexcel['census_var'])]\n",
    "dfvars_count=len(dfvars_selected)\n",
    "dfexcel_count=len(dfexcel['census_var'])\n",
    "\n",
    "if dfvars_count==dfexcel_count:\n",
    "    print('There are an equal number of variables in both lists:', dfvars_count)\n",
    "else:\n",
    "    print('There is a mismatch in the number of variables; the api has,', dfvars_count, \n",
    "          'while the original list has',dfexcel_count,'. Missing:')\n",
    "    nomatch=dfexcel[~dfexcel['census_var'].isin(dfvars_selected.index)]\n",
    "    print(nomatch)"
   ]
  },
  {
   "cell_type": "code",
   "execution_count": 6,
   "metadata": {},
   "outputs": [
    {
     "name": "stdout",
     "output_type": "stream",
     "text": [
      "Number of geographic indetifiers: 5\n"
     ]
    }
   ],
   "source": [
    "# Geographic indetifiers: zctas to retrieve, pumas to filter by, and counties containing tracts to retrieve\n",
    "excelgeo = pd.read_excel(os.path.join('inputs','dec2020_variables.xlsx'),sheet_name=geotype, dtype=object)\n",
    "geoids = excelgeo['GEO'].tolist()\n",
    "print('Number of geographic indetifiers:',len(geoids))"
   ]
  },
  {
   "cell_type": "markdown",
   "metadata": {},
   "source": [
    "## Retrieve Data\n",
    "Given the large number of variables in the ACS and limits of the API, variables must be passed to the url in separate blocks or chunks. The first chunk that's captured is written to an empty datalist; the header row and then one row for each geography. Each subsequent chunk is iterated through by row, so each row is appended to the correct row in datalist. In all cases, the last values, identifiers automatically returned with each API call, are not appended."
   ]
  },
  {
   "cell_type": "code",
   "execution_count": 7,
   "metadata": {},
   "outputs": [],
   "source": [
    "def chunks(l, n):\n",
    "    # For item i in a range that is a length of l,\n",
    "    for i in range(0, len(l), n):\n",
    "        # Create an index range for l of n items:\n",
    "        yield l[i:i+n]"
   ]
  },
  {
   "cell_type": "code",
   "execution_count": 8,
   "metadata": {},
   "outputs": [
    {
     "name": "stdout",
     "output_type": "stream",
     "text": [
      "Number of chunks: 2\n"
     ]
    }
   ],
   "source": [
    "reqvars=list(chunks(dfvars_selected.index.tolist(),46))\n",
    "reqvars[0].insert(0,'NAME')\n",
    "reqvars[0].insert(0,'GEO_ID')\n",
    "print('Number of chunks:',len(reqvars))"
   ]
  },
  {
   "cell_type": "code",
   "execution_count": 9,
   "metadata": {},
   "outputs": [
    {
     "data": {
      "text/plain": [
       "'https://api.census.gov/data/2020/dec/pl'"
      ]
     },
     "execution_count": 9,
     "metadata": {},
     "output_type": "execute_result"
    }
   ],
   "source": [
    "with open(keyfile) as key:\n",
    "    api_key=key.read().strip()\n",
    "\n",
    "base_url = f'https://api.census.gov/data/{year}/{dsource}/{dname}'\n",
    "base_url"
   ]
  },
  {
   "cell_type": "code",
   "execution_count": 10,
   "metadata": {},
   "outputs": [],
   "source": [
    "#Function for retrieving data; running this block loads it into memory\n",
    "#Different geographies have different urls, \n",
    "#and a different number of identifiers tacked on to the end of each request\n",
    "\n",
    "def getdata():\n",
    "    dlist=[]\n",
    "    for i, v in enumerate(reqvars):\n",
    "        batchcols=','.join(v)\n",
    "        if geotype=='zctas':\n",
    "            data_url = f'{base_url}?get={batchcols}&for={geo}:{g}&key={api_key}'\n",
    "            dropvar=-1\n",
    "        elif geotype=='county_subdivs':\n",
    "            data_url = f'{base_url}?get={batchcols}&for={geo}:*&in=state:{state}&in=county:{county}&key={api_key}'\n",
    "            dropvar=-3\n",
    "        elif geotype=='tracts':\n",
    "            data_url = f'{base_url}?get={batchcols}&for={geo}:*&in=state:{state}&in=county:{county}&key={api_key}'\n",
    "            dropvar=-3\n",
    "        else:\n",
    "            print('Appropriate geography not specified in variables block')\n",
    "            break  \n",
    "        response=requests.get(data_url)\n",
    "        if response.status_code==200:\n",
    "            clear_output(wait=True)\n",
    "            data=response.json()\n",
    "            for i2, v2 in enumerate(data):\n",
    "                if i == 0:\n",
    "                    dlist.append(v2[:dropvar])\n",
    "                else:\n",
    "                    for item in v2[:dropvar]:\n",
    "                        dlist[i2].append(item)\n",
    "        else:\n",
    "            print('***Problem with retrieval***, response code',response.status_code)\n",
    "    return dlist"
   ]
  },
  {
   "cell_type": "markdown",
   "metadata": {},
   "source": [
    "##### ***THIS BLOCK IS A REQUESTS BLOCK!***\n",
    "*NOTE: ZCTA retrieval takes a long time - 5 mins for 80 ZCTAs*"
   ]
  },
  {
   "cell_type": "code",
   "execution_count": 11,
   "metadata": {},
   "outputs": [
    {
     "name": "stdout",
     "output_type": "stream",
     "text": [
      "Retrieved data for 009\n",
      "Retrieved 251 records and 12801 data points with 51.0 points for each record...\n",
      "Done - Data dumped to json file\n"
     ]
    }
   ],
   "source": [
    "#If this block was run successfully for a given table and geography don't rerun - next block pulls from saved json\n",
    "datalist=[]\n",
    "if geotype=='zctas':\n",
    "    for g in geoids:\n",
    "        georecord=getdata()\n",
    "        print('Retrieved data for',g)\n",
    "        if len(datalist)==0:\n",
    "            datalist.append(georecord[0])\n",
    "            datalist.append(georecord[1])\n",
    "        else:\n",
    "            datalist.append(georecord[1])\n",
    "else:\n",
    "    for county in geoids:\n",
    "        georecord=getdata()\n",
    "        print('Retrieved data for',county)\n",
    "        if len(datalist)==0:\n",
    "            for geog in georecord:\n",
    "                datalist.append(geog)\n",
    "        else:\n",
    "            for geog in georecord[1:]:\n",
    "                datalist.append(geog)\n",
    "    \n",
    "dlrows=len(datalist)\n",
    "dlitems=sum(len(x) for x in datalist)\n",
    "dlbyrow=dlitems / dlrows\n",
    "print('Retrieved', dlrows, 'records and', dlitems,'data points with', dlbyrow, 'points for each record...')\n",
    "        \n",
    "with open(jsonpath, 'w') as f:\n",
    "    json.dump(datalist, f)\n",
    "print('Done - Data dumped to json file')"
   ]
  },
  {
   "cell_type": "markdown",
   "metadata": {},
   "source": [
    "## Process Data\n",
    "Replace footnotes with nulls, create a new GEOID2 column, replace census variable names with database variable names."
   ]
  },
  {
   "cell_type": "code",
   "execution_count": 12,
   "metadata": {},
   "outputs": [
    {
     "name": "stdout",
     "output_type": "stream",
     "text": [
      "<class 'pandas.core.frame.DataFrame'>\n",
      "Index: 250 entries, 1400000US44001030100 to 1400000US44009990200\n",
      "Data columns (total 50 columns):\n",
      " #   Column    Non-Null Count  Dtype \n",
      "---  ------    --------------  ----- \n",
      " 0   GEOLABEL  250 non-null    object\n",
      " 1   H1_001N   250 non-null    object\n",
      " 2   H1_002N   250 non-null    object\n",
      " 3   H1_003N   250 non-null    object\n",
      " 4   P1_001N   250 non-null    object\n",
      " 5   P1_003N   250 non-null    object\n",
      " 6   P1_004N   250 non-null    object\n",
      " 7   P1_005N   250 non-null    object\n",
      " 8   P1_006N   250 non-null    object\n",
      " 9   P1_007N   250 non-null    object\n",
      " 10  P1_008N   250 non-null    object\n",
      " 11  P1_009N   250 non-null    object\n",
      " 12  P2_001N   250 non-null    object\n",
      " 13  P2_002N   250 non-null    object\n",
      " 14  P2_003N   250 non-null    object\n",
      " 15  P2_005N   250 non-null    object\n",
      " 16  P2_006N   250 non-null    object\n",
      " 17  P2_007N   250 non-null    object\n",
      " 18  P2_008N   250 non-null    object\n",
      " 19  P2_009N   250 non-null    object\n",
      " 20  P2_010N   250 non-null    object\n",
      " 21  P2_011N   250 non-null    object\n",
      " 22  P3_001N   250 non-null    object\n",
      " 23  P3_003N   250 non-null    object\n",
      " 24  P3_004N   250 non-null    object\n",
      " 25  P3_005N   250 non-null    object\n",
      " 26  P3_006N   250 non-null    object\n",
      " 27  P3_007N   250 non-null    object\n",
      " 28  P3_008N   250 non-null    object\n",
      " 29  P3_009N   250 non-null    object\n",
      " 30  P4_001N   250 non-null    object\n",
      " 31  P4_002N   250 non-null    object\n",
      " 32  P4_003N   250 non-null    object\n",
      " 33  P4_005N   250 non-null    object\n",
      " 34  P4_006N   250 non-null    object\n",
      " 35  P4_007N   250 non-null    object\n",
      " 36  P4_008N   250 non-null    object\n",
      " 37  P4_009N   250 non-null    object\n",
      " 38  P4_010N   250 non-null    object\n",
      " 39  P4_011N   250 non-null    object\n",
      " 40  P5_001N   250 non-null    object\n",
      " 41  P5_002N   250 non-null    object\n",
      " 42  P5_003N   250 non-null    object\n",
      " 43  P5_004N   250 non-null    object\n",
      " 44  P5_005N   250 non-null    object\n",
      " 45  P5_006N   250 non-null    object\n",
      " 46  P5_007N   250 non-null    object\n",
      " 47  P5_008N   250 non-null    object\n",
      " 48  P5_009N   250 non-null    object\n",
      " 49  P5_010N   250 non-null    object\n",
      "dtypes: object(50)\n",
      "memory usage: 99.6+ KB\n"
     ]
    }
   ],
   "source": [
    "with open(jsonpath, 'r') as f:\n",
    "    jsondata=json.load(f)\n",
    "alldata = pd.DataFrame(jsondata[1:],columns=jsondata[0],dtype=object).rename(columns={\n",
    "    'GEO_ID':'GEOIDLONG','NAME':'GEOLABEL'}).set_index('GEOIDLONG')\n",
    "alldata.info()\n",
    "# Index and column entries should be 1 row and 1 column less than previous count (excludes header row and index column) "
   ]
  },
  {
   "cell_type": "code",
   "execution_count": 13,
   "metadata": {},
   "outputs": [
    {
     "data": {
      "text/html": [
       "<div>\n",
       "<style scoped>\n",
       "    .dataframe tbody tr th:only-of-type {\n",
       "        vertical-align: middle;\n",
       "    }\n",
       "\n",
       "    .dataframe tbody tr th {\n",
       "        vertical-align: top;\n",
       "    }\n",
       "\n",
       "    .dataframe thead th {\n",
       "        text-align: right;\n",
       "    }\n",
       "</style>\n",
       "<table border=\"1\" class=\"dataframe\">\n",
       "  <thead>\n",
       "    <tr style=\"text-align: right;\">\n",
       "      <th></th>\n",
       "      <th>GEOLABEL</th>\n",
       "      <th>H1_001N</th>\n",
       "      <th>H1_002N</th>\n",
       "      <th>H1_003N</th>\n",
       "      <th>P1_001N</th>\n",
       "      <th>P1_003N</th>\n",
       "      <th>P1_004N</th>\n",
       "      <th>P1_005N</th>\n",
       "      <th>P1_006N</th>\n",
       "      <th>P1_007N</th>\n",
       "      <th>...</th>\n",
       "      <th>P5_001N</th>\n",
       "      <th>P5_002N</th>\n",
       "      <th>P5_003N</th>\n",
       "      <th>P5_004N</th>\n",
       "      <th>P5_005N</th>\n",
       "      <th>P5_006N</th>\n",
       "      <th>P5_007N</th>\n",
       "      <th>P5_008N</th>\n",
       "      <th>P5_009N</th>\n",
       "      <th>P5_010N</th>\n",
       "    </tr>\n",
       "    <tr>\n",
       "      <th>GEOIDLONG</th>\n",
       "      <th></th>\n",
       "      <th></th>\n",
       "      <th></th>\n",
       "      <th></th>\n",
       "      <th></th>\n",
       "      <th></th>\n",
       "      <th></th>\n",
       "      <th></th>\n",
       "      <th></th>\n",
       "      <th></th>\n",
       "      <th></th>\n",
       "      <th></th>\n",
       "      <th></th>\n",
       "      <th></th>\n",
       "      <th></th>\n",
       "      <th></th>\n",
       "      <th></th>\n",
       "      <th></th>\n",
       "      <th></th>\n",
       "      <th></th>\n",
       "      <th></th>\n",
       "    </tr>\n",
       "  </thead>\n",
       "  <tbody>\n",
       "    <tr>\n",
       "      <th>1400000US44001030100</th>\n",
       "      <td>Census Tract 301, Bristol County, Rhode Island</td>\n",
       "      <td>1859</td>\n",
       "      <td>1775</td>\n",
       "      <td>84</td>\n",
       "      <td>4801</td>\n",
       "      <td>4217</td>\n",
       "      <td>66</td>\n",
       "      <td>0</td>\n",
       "      <td>188</td>\n",
       "      <td>0</td>\n",
       "      <td>...</td>\n",
       "      <td>110</td>\n",
       "      <td>103</td>\n",
       "      <td>0</td>\n",
       "      <td>0</td>\n",
       "      <td>103</td>\n",
       "      <td>0</td>\n",
       "      <td>7</td>\n",
       "      <td>0</td>\n",
       "      <td>0</td>\n",
       "      <td>7</td>\n",
       "    </tr>\n",
       "    <tr>\n",
       "      <th>1400000US44001030200</th>\n",
       "      <td>Census Tract 302, Bristol County, Rhode Island</td>\n",
       "      <td>1322</td>\n",
       "      <td>1263</td>\n",
       "      <td>59</td>\n",
       "      <td>3580</td>\n",
       "      <td>2922</td>\n",
       "      <td>50</td>\n",
       "      <td>5</td>\n",
       "      <td>287</td>\n",
       "      <td>0</td>\n",
       "      <td>...</td>\n",
       "      <td>100</td>\n",
       "      <td>0</td>\n",
       "      <td>0</td>\n",
       "      <td>0</td>\n",
       "      <td>0</td>\n",
       "      <td>0</td>\n",
       "      <td>100</td>\n",
       "      <td>94</td>\n",
       "      <td>0</td>\n",
       "      <td>6</td>\n",
       "    </tr>\n",
       "    <tr>\n",
       "      <th>1400000US44001030300</th>\n",
       "      <td>Census Tract 303, Bristol County, Rhode Island</td>\n",
       "      <td>1764</td>\n",
       "      <td>1684</td>\n",
       "      <td>80</td>\n",
       "      <td>4775</td>\n",
       "      <td>4137</td>\n",
       "      <td>38</td>\n",
       "      <td>0</td>\n",
       "      <td>268</td>\n",
       "      <td>0</td>\n",
       "      <td>...</td>\n",
       "      <td>12</td>\n",
       "      <td>0</td>\n",
       "      <td>0</td>\n",
       "      <td>0</td>\n",
       "      <td>0</td>\n",
       "      <td>0</td>\n",
       "      <td>12</td>\n",
       "      <td>0</td>\n",
       "      <td>0</td>\n",
       "      <td>12</td>\n",
       "    </tr>\n",
       "  </tbody>\n",
       "</table>\n",
       "<p>3 rows × 50 columns</p>\n",
       "</div>"
      ],
      "text/plain": [
       "                                                            GEOLABEL H1_001N  \\\n",
       "GEOIDLONG                                                                      \n",
       "1400000US44001030100  Census Tract 301, Bristol County, Rhode Island    1859   \n",
       "1400000US44001030200  Census Tract 302, Bristol County, Rhode Island    1322   \n",
       "1400000US44001030300  Census Tract 303, Bristol County, Rhode Island    1764   \n",
       "\n",
       "                     H1_002N H1_003N P1_001N P1_003N P1_004N P1_005N P1_006N  \\\n",
       "GEOIDLONG                                                                      \n",
       "1400000US44001030100    1775      84    4801    4217      66       0     188   \n",
       "1400000US44001030200    1263      59    3580    2922      50       5     287   \n",
       "1400000US44001030300    1684      80    4775    4137      38       0     268   \n",
       "\n",
       "                     P1_007N  ... P5_001N P5_002N P5_003N P5_004N P5_005N  \\\n",
       "GEOIDLONG                     ...                                           \n",
       "1400000US44001030100       0  ...     110     103       0       0     103   \n",
       "1400000US44001030200       0  ...     100       0       0       0       0   \n",
       "1400000US44001030300       0  ...      12       0       0       0       0   \n",
       "\n",
       "                     P5_006N P5_007N P5_008N P5_009N P5_010N  \n",
       "GEOIDLONG                                                     \n",
       "1400000US44001030100       0       7       0       0       7  \n",
       "1400000US44001030200       0     100      94       0       6  \n",
       "1400000US44001030300       0      12       0       0      12  \n",
       "\n",
       "[3 rows x 50 columns]"
      ]
     },
     "execution_count": 13,
     "metadata": {},
     "output_type": "execute_result"
    }
   ],
   "source": [
    "alldata.head(3)"
   ]
  },
  {
   "cell_type": "code",
   "execution_count": 14,
   "metadata": {},
   "outputs": [
    {
     "data": {
      "text/html": [
       "<div>\n",
       "<style scoped>\n",
       "    .dataframe tbody tr th:only-of-type {\n",
       "        vertical-align: middle;\n",
       "    }\n",
       "\n",
       "    .dataframe tbody tr th {\n",
       "        vertical-align: top;\n",
       "    }\n",
       "\n",
       "    .dataframe thead th {\n",
       "        text-align: right;\n",
       "    }\n",
       "</style>\n",
       "<table border=\"1\" class=\"dataframe\">\n",
       "  <thead>\n",
       "    <tr style=\"text-align: right;\">\n",
       "      <th></th>\n",
       "      <th>GEOIDSHORT</th>\n",
       "      <th>GEOLABEL</th>\n",
       "      <th>H1_001N</th>\n",
       "      <th>H1_002N</th>\n",
       "      <th>H1_003N</th>\n",
       "      <th>P1_001N</th>\n",
       "      <th>P1_003N</th>\n",
       "      <th>P1_004N</th>\n",
       "      <th>P1_005N</th>\n",
       "      <th>P1_006N</th>\n",
       "      <th>...</th>\n",
       "      <th>P5_001N</th>\n",
       "      <th>P5_002N</th>\n",
       "      <th>P5_003N</th>\n",
       "      <th>P5_004N</th>\n",
       "      <th>P5_005N</th>\n",
       "      <th>P5_006N</th>\n",
       "      <th>P5_007N</th>\n",
       "      <th>P5_008N</th>\n",
       "      <th>P5_009N</th>\n",
       "      <th>P5_010N</th>\n",
       "    </tr>\n",
       "    <tr>\n",
       "      <th>GEOIDLONG</th>\n",
       "      <th></th>\n",
       "      <th></th>\n",
       "      <th></th>\n",
       "      <th></th>\n",
       "      <th></th>\n",
       "      <th></th>\n",
       "      <th></th>\n",
       "      <th></th>\n",
       "      <th></th>\n",
       "      <th></th>\n",
       "      <th></th>\n",
       "      <th></th>\n",
       "      <th></th>\n",
       "      <th></th>\n",
       "      <th></th>\n",
       "      <th></th>\n",
       "      <th></th>\n",
       "      <th></th>\n",
       "      <th></th>\n",
       "      <th></th>\n",
       "      <th></th>\n",
       "    </tr>\n",
       "  </thead>\n",
       "  <tbody>\n",
       "    <tr>\n",
       "      <th>1400000US44001030100</th>\n",
       "      <td>44001030100</td>\n",
       "      <td>Census Tract 301, Bristol County, Rhode Island</td>\n",
       "      <td>1859</td>\n",
       "      <td>1775</td>\n",
       "      <td>84</td>\n",
       "      <td>4801</td>\n",
       "      <td>4217</td>\n",
       "      <td>66</td>\n",
       "      <td>0</td>\n",
       "      <td>188</td>\n",
       "      <td>...</td>\n",
       "      <td>110</td>\n",
       "      <td>103</td>\n",
       "      <td>0</td>\n",
       "      <td>0</td>\n",
       "      <td>103</td>\n",
       "      <td>0</td>\n",
       "      <td>7</td>\n",
       "      <td>0</td>\n",
       "      <td>0</td>\n",
       "      <td>7</td>\n",
       "    </tr>\n",
       "    <tr>\n",
       "      <th>1400000US44001030200</th>\n",
       "      <td>44001030200</td>\n",
       "      <td>Census Tract 302, Bristol County, Rhode Island</td>\n",
       "      <td>1322</td>\n",
       "      <td>1263</td>\n",
       "      <td>59</td>\n",
       "      <td>3580</td>\n",
       "      <td>2922</td>\n",
       "      <td>50</td>\n",
       "      <td>5</td>\n",
       "      <td>287</td>\n",
       "      <td>...</td>\n",
       "      <td>100</td>\n",
       "      <td>0</td>\n",
       "      <td>0</td>\n",
       "      <td>0</td>\n",
       "      <td>0</td>\n",
       "      <td>0</td>\n",
       "      <td>100</td>\n",
       "      <td>94</td>\n",
       "      <td>0</td>\n",
       "      <td>6</td>\n",
       "    </tr>\n",
       "    <tr>\n",
       "      <th>1400000US44001030300</th>\n",
       "      <td>44001030300</td>\n",
       "      <td>Census Tract 303, Bristol County, Rhode Island</td>\n",
       "      <td>1764</td>\n",
       "      <td>1684</td>\n",
       "      <td>80</td>\n",
       "      <td>4775</td>\n",
       "      <td>4137</td>\n",
       "      <td>38</td>\n",
       "      <td>0</td>\n",
       "      <td>268</td>\n",
       "      <td>...</td>\n",
       "      <td>12</td>\n",
       "      <td>0</td>\n",
       "      <td>0</td>\n",
       "      <td>0</td>\n",
       "      <td>0</td>\n",
       "      <td>0</td>\n",
       "      <td>12</td>\n",
       "      <td>0</td>\n",
       "      <td>0</td>\n",
       "      <td>12</td>\n",
       "    </tr>\n",
       "  </tbody>\n",
       "</table>\n",
       "<p>3 rows × 51 columns</p>\n",
       "</div>"
      ],
      "text/plain": [
       "                       GEOIDSHORT  \\\n",
       "GEOIDLONG                           \n",
       "1400000US44001030100  44001030100   \n",
       "1400000US44001030200  44001030200   \n",
       "1400000US44001030300  44001030300   \n",
       "\n",
       "                                                            GEOLABEL H1_001N  \\\n",
       "GEOIDLONG                                                                      \n",
       "1400000US44001030100  Census Tract 301, Bristol County, Rhode Island    1859   \n",
       "1400000US44001030200  Census Tract 302, Bristol County, Rhode Island    1322   \n",
       "1400000US44001030300  Census Tract 303, Bristol County, Rhode Island    1764   \n",
       "\n",
       "                     H1_002N H1_003N P1_001N P1_003N P1_004N P1_005N P1_006N  \\\n",
       "GEOIDLONG                                                                      \n",
       "1400000US44001030100    1775      84    4801    4217      66       0     188   \n",
       "1400000US44001030200    1263      59    3580    2922      50       5     287   \n",
       "1400000US44001030300    1684      80    4775    4137      38       0     268   \n",
       "\n",
       "                      ... P5_001N P5_002N P5_003N P5_004N P5_005N P5_006N  \\\n",
       "GEOIDLONG             ...                                                   \n",
       "1400000US44001030100  ...     110     103       0       0     103       0   \n",
       "1400000US44001030200  ...     100       0       0       0       0       0   \n",
       "1400000US44001030300  ...      12       0       0       0       0       0   \n",
       "\n",
       "                     P5_007N P5_008N P5_009N P5_010N  \n",
       "GEOIDLONG                                             \n",
       "1400000US44001030100       7       0       0       7  \n",
       "1400000US44001030200     100      94       0       6  \n",
       "1400000US44001030300      12       0       0      12  \n",
       "\n",
       "[3 rows x 51 columns]"
      ]
     },
     "execution_count": 14,
     "metadata": {},
     "output_type": "execute_result"
    }
   ],
   "source": [
    "idxgeoid2={'zctas':-5, 'county_subdivs':-10,'tracts':-11}\n",
    "alldata.insert(loc=0, column='GEOIDSHORT',value=alldata.index.str[idxgeoid2.get(geotype):])\n",
    "alldata.head(3)"
   ]
  },
  {
   "cell_type": "code",
   "execution_count": 15,
   "metadata": {},
   "outputs": [
    {
     "data": {
      "text/plain": [
       "(250, 51)"
      ]
     },
     "execution_count": 15,
     "metadata": {},
     "output_type": "execute_result"
    }
   ],
   "source": [
    "# For PUMAS filter all the geotype for the state by local areas\n",
    "if geotype == 'pumas':\n",
    "    censusdata=alldata.loc[alldata.GEOID2.isin(geoids)].copy().astype(object).sort_index()\n",
    "else:\n",
    "    censusdata=alldata.copy().astype(object).sort_index()\n",
    "censusdata.shape"
   ]
  },
  {
   "cell_type": "code",
   "execution_count": 16,
   "metadata": {},
   "outputs": [
    {
     "data": {
      "text/html": [
       "<div>\n",
       "<style scoped>\n",
       "    .dataframe tbody tr th:only-of-type {\n",
       "        vertical-align: middle;\n",
       "    }\n",
       "\n",
       "    .dataframe tbody tr th {\n",
       "        vertical-align: top;\n",
       "    }\n",
       "\n",
       "    .dataframe thead th {\n",
       "        text-align: right;\n",
       "    }\n",
       "</style>\n",
       "<table border=\"1\" class=\"dataframe\">\n",
       "  <thead>\n",
       "    <tr style=\"text-align: right;\">\n",
       "      <th></th>\n",
       "      <th>GEOIDSHORT</th>\n",
       "      <th>GEOLABEL</th>\n",
       "      <th>H1_001N</th>\n",
       "      <th>H1_002N</th>\n",
       "      <th>H1_003N</th>\n",
       "      <th>P1_001N</th>\n",
       "      <th>P1_003N</th>\n",
       "      <th>P1_004N</th>\n",
       "      <th>P1_005N</th>\n",
       "      <th>P1_006N</th>\n",
       "      <th>...</th>\n",
       "      <th>P5_001N</th>\n",
       "      <th>P5_002N</th>\n",
       "      <th>P5_003N</th>\n",
       "      <th>P5_004N</th>\n",
       "      <th>P5_005N</th>\n",
       "      <th>P5_006N</th>\n",
       "      <th>P5_007N</th>\n",
       "      <th>P5_008N</th>\n",
       "      <th>P5_009N</th>\n",
       "      <th>P5_010N</th>\n",
       "    </tr>\n",
       "    <tr>\n",
       "      <th>GEOIDLONG</th>\n",
       "      <th></th>\n",
       "      <th></th>\n",
       "      <th></th>\n",
       "      <th></th>\n",
       "      <th></th>\n",
       "      <th></th>\n",
       "      <th></th>\n",
       "      <th></th>\n",
       "      <th></th>\n",
       "      <th></th>\n",
       "      <th></th>\n",
       "      <th></th>\n",
       "      <th></th>\n",
       "      <th></th>\n",
       "      <th></th>\n",
       "      <th></th>\n",
       "      <th></th>\n",
       "      <th></th>\n",
       "      <th></th>\n",
       "      <th></th>\n",
       "      <th></th>\n",
       "    </tr>\n",
       "  </thead>\n",
       "  <tbody>\n",
       "    <tr>\n",
       "      <th>1400000US44001030100</th>\n",
       "      <td>44001030100</td>\n",
       "      <td>Census Tract 301, Bristol County, Rhode Island</td>\n",
       "      <td>1859</td>\n",
       "      <td>1775</td>\n",
       "      <td>84</td>\n",
       "      <td>4801</td>\n",
       "      <td>4217</td>\n",
       "      <td>66</td>\n",
       "      <td>0</td>\n",
       "      <td>188</td>\n",
       "      <td>...</td>\n",
       "      <td>110</td>\n",
       "      <td>103</td>\n",
       "      <td>0</td>\n",
       "      <td>0</td>\n",
       "      <td>103</td>\n",
       "      <td>0</td>\n",
       "      <td>7</td>\n",
       "      <td>0</td>\n",
       "      <td>0</td>\n",
       "      <td>7</td>\n",
       "    </tr>\n",
       "    <tr>\n",
       "      <th>1400000US44001030200</th>\n",
       "      <td>44001030200</td>\n",
       "      <td>Census Tract 302, Bristol County, Rhode Island</td>\n",
       "      <td>1322</td>\n",
       "      <td>1263</td>\n",
       "      <td>59</td>\n",
       "      <td>3580</td>\n",
       "      <td>2922</td>\n",
       "      <td>50</td>\n",
       "      <td>5</td>\n",
       "      <td>287</td>\n",
       "      <td>...</td>\n",
       "      <td>100</td>\n",
       "      <td>0</td>\n",
       "      <td>0</td>\n",
       "      <td>0</td>\n",
       "      <td>0</td>\n",
       "      <td>0</td>\n",
       "      <td>100</td>\n",
       "      <td>94</td>\n",
       "      <td>0</td>\n",
       "      <td>6</td>\n",
       "    </tr>\n",
       "    <tr>\n",
       "      <th>1400000US44001030300</th>\n",
       "      <td>44001030300</td>\n",
       "      <td>Census Tract 303, Bristol County, Rhode Island</td>\n",
       "      <td>1764</td>\n",
       "      <td>1684</td>\n",
       "      <td>80</td>\n",
       "      <td>4775</td>\n",
       "      <td>4137</td>\n",
       "      <td>38</td>\n",
       "      <td>0</td>\n",
       "      <td>268</td>\n",
       "      <td>...</td>\n",
       "      <td>12</td>\n",
       "      <td>0</td>\n",
       "      <td>0</td>\n",
       "      <td>0</td>\n",
       "      <td>0</td>\n",
       "      <td>0</td>\n",
       "      <td>12</td>\n",
       "      <td>0</td>\n",
       "      <td>0</td>\n",
       "      <td>12</td>\n",
       "    </tr>\n",
       "  </tbody>\n",
       "</table>\n",
       "<p>3 rows × 51 columns</p>\n",
       "</div>"
      ],
      "text/plain": [
       "                       GEOIDSHORT  \\\n",
       "GEOIDLONG                           \n",
       "1400000US44001030100  44001030100   \n",
       "1400000US44001030200  44001030200   \n",
       "1400000US44001030300  44001030300   \n",
       "\n",
       "                                                            GEOLABEL H1_001N  \\\n",
       "GEOIDLONG                                                                      \n",
       "1400000US44001030100  Census Tract 301, Bristol County, Rhode Island    1859   \n",
       "1400000US44001030200  Census Tract 302, Bristol County, Rhode Island    1322   \n",
       "1400000US44001030300  Census Tract 303, Bristol County, Rhode Island    1764   \n",
       "\n",
       "                     H1_002N H1_003N P1_001N P1_003N P1_004N P1_005N P1_006N  \\\n",
       "GEOIDLONG                                                                      \n",
       "1400000US44001030100    1775      84    4801    4217      66       0     188   \n",
       "1400000US44001030200    1263      59    3580    2922      50       5     287   \n",
       "1400000US44001030300    1684      80    4775    4137      38       0     268   \n",
       "\n",
       "                      ... P5_001N P5_002N P5_003N P5_004N P5_005N P5_006N  \\\n",
       "GEOIDLONG             ...                                                   \n",
       "1400000US44001030100  ...     110     103       0       0     103       0   \n",
       "1400000US44001030200  ...     100       0       0       0       0       0   \n",
       "1400000US44001030300  ...      12       0       0       0       0       0   \n",
       "\n",
       "                     P5_007N P5_008N P5_009N P5_010N  \n",
       "GEOIDLONG                                             \n",
       "1400000US44001030100       7       0       0       7  \n",
       "1400000US44001030200     100      94       0       6  \n",
       "1400000US44001030300      12       0       0      12  \n",
       "\n",
       "[3 rows x 51 columns]"
      ]
     },
     "execution_count": 16,
     "metadata": {},
     "output_type": "execute_result"
    }
   ],
   "source": [
    "censusdata.head(3)"
   ]
  },
  {
   "cell_type": "markdown",
   "metadata": {},
   "source": [
    "## Write to Database\n",
    "Update list of variables and data types, build create table string, create datatable in temporary database.\n"
   ]
  },
  {
   "cell_type": "code",
   "execution_count": 17,
   "metadata": {},
   "outputs": [
    {
     "data": {
      "text/html": [
       "<div>\n",
       "<style scoped>\n",
       "    .dataframe tbody tr th:only-of-type {\n",
       "        vertical-align: middle;\n",
       "    }\n",
       "\n",
       "    .dataframe tbody tr th {\n",
       "        vertical-align: top;\n",
       "    }\n",
       "\n",
       "    .dataframe thead th {\n",
       "        text-align: right;\n",
       "    }\n",
       "</style>\n",
       "<table border=\"1\" class=\"dataframe\">\n",
       "  <thead>\n",
       "    <tr style=\"text-align: right;\">\n",
       "      <th></th>\n",
       "      <th>census_var</th>\n",
       "      <th>census_label</th>\n",
       "      <th>dtype</th>\n",
       "    </tr>\n",
       "  </thead>\n",
       "  <tbody>\n",
       "    <tr>\n",
       "      <th>0</th>\n",
       "      <td>H1_001N</td>\n",
       "      <td>OCCUPANCY STATUS - Total:</td>\n",
       "      <td>INTEGER</td>\n",
       "    </tr>\n",
       "    <tr>\n",
       "      <th>1</th>\n",
       "      <td>H1_002N</td>\n",
       "      <td>OCCUPANCY STATUS - Total: - Occupied</td>\n",
       "      <td>INTEGER</td>\n",
       "    </tr>\n",
       "    <tr>\n",
       "      <th>2</th>\n",
       "      <td>H1_003N</td>\n",
       "      <td>OCCUPANCY STATUS - Total: - Vacant</td>\n",
       "      <td>INTEGER</td>\n",
       "    </tr>\n",
       "    <tr>\n",
       "      <th>3</th>\n",
       "      <td>P1_001N</td>\n",
       "      <td>RACE - Total:</td>\n",
       "      <td>INTEGER</td>\n",
       "    </tr>\n",
       "    <tr>\n",
       "      <th>4</th>\n",
       "      <td>P1_003N</td>\n",
       "      <td>RACE - Total: - Population of one race: - Whit...</td>\n",
       "      <td>INTEGER</td>\n",
       "    </tr>\n",
       "  </tbody>\n",
       "</table>\n",
       "</div>"
      ],
      "text/plain": [
       "  census_var                                       census_label    dtype\n",
       "0    H1_001N                          OCCUPANCY STATUS - Total:  INTEGER\n",
       "1    H1_002N               OCCUPANCY STATUS - Total: - Occupied  INTEGER\n",
       "2    H1_003N                 OCCUPANCY STATUS - Total: - Vacant  INTEGER\n",
       "3    P1_001N                                      RACE - Total:  INTEGER\n",
       "4    P1_003N  RACE - Total: - Population of one race: - Whit...  INTEGER"
      ]
     },
     "execution_count": 17,
     "metadata": {},
     "output_type": "execute_result"
    }
   ],
   "source": [
    "dfexcel.replace({'dtype': {'int': 'INTEGER', 'float': 'REAL'}},inplace=True)\n",
    "dfexcel.census_label.replace({'!!': ' - '},inplace=True, regex=True)\n",
    "dfexcel.head()"
   ]
  },
  {
   "cell_type": "code",
   "execution_count": 18,
   "metadata": {},
   "outputs": [
    {
     "data": {
      "text/plain": [
       "[('P3_007N',\n",
       "  ['RACE FOR THE POPULATION 18 YEARS AND OVER - Total: - Population of one race: - Native Hawaiian and Other Pacific Islander alone',\n",
       "   'INTEGER']),\n",
       " ('P2_011N',\n",
       "  ['HISPANIC OR LATINO, AND NOT HISPANIC OR LATINO BY RACE - Total: - Not Hispanic or Latino: - Population of two or more races:',\n",
       "   'INTEGER'])]"
      ]
     },
     "execution_count": 18,
     "metadata": {},
     "output_type": "execute_result"
    }
   ],
   "source": [
    "vardict=dfexcel.set_index('census_var').T.to_dict('list')\n",
    "random.sample(list(vardict.items()), 2)"
   ]
  },
  {
   "cell_type": "code",
   "execution_count": 19,
   "metadata": {},
   "outputs": [],
   "source": [
    "con = sqlite3.connect(dbname) \n",
    "cur = con.cursor()"
   ]
  },
  {
   "cell_type": "code",
   "execution_count": 20,
   "metadata": {},
   "outputs": [
    {
     "name": "stdout",
     "output_type": "stream",
     "text": [
      "\n",
      "CREATE TABLE tracts_census2020_plrd (\n",
      "GEOIDLONG TEXT NOT NULL PRIMARY KEY,\n",
      "GEOIDSHORT TEXT,\n",
      "GEOLABEL TEXT,\n",
      "H1_001N INTEGER, \n",
      "H1_002N INTEGER, \n",
      "H1_003N INTEGER, \n",
      "P1_001N INTEGER, \n",
      "P1_003N INTEGER, \n",
      "P1_004N INTEGER, \n",
      "P1_005N INTEGER, \n",
      "P1_006N INTEGER, \n",
      "P1_007N INTEGER, \n",
      "P1_008N INTEGER, \n",
      "P1_009N INTEGER, \n",
      "P2_001N INTEGER, \n",
      "P2_002N INTEGER, \n",
      "P2_003N INTEGER, \n",
      "P2_005N INTEGER, \n",
      "P2_006N INTEGER, \n",
      "P2_007N INTEGER, \n",
      "P2_008N INTEGER, \n",
      "P2_009N INTEGER, \n",
      "P2_010N INTEGER, \n",
      "P2_011N INTEGER, \n",
      "P3_001N INTEGER, \n",
      "P3_003N INTEGER, \n",
      "P3_004N INTEGER, \n",
      "P3_005N INTEGER, \n",
      "P3_006N INTEGER, \n",
      "P3_007N INTEGER, \n",
      "P3_008N INTEGER, \n",
      "P3_009N INTEGER, \n",
      "P4_001N INTEGER, \n",
      "P4_002N INTEGER, \n",
      "P4_003N INTEGER, \n",
      "P4_005N INTEGER, \n",
      "P4_006N INTEGER, \n",
      "P4_007N INTEGER, \n",
      "P4_008N INTEGER, \n",
      "P4_009N INTEGER, \n",
      "P4_010N INTEGER, \n",
      "P4_011N INTEGER, \n",
      "P5_001N INTEGER, \n",
      "P5_002N INTEGER, \n",
      "P5_003N INTEGER, \n",
      "P5_004N INTEGER, \n",
      "P5_005N INTEGER, \n",
      "P5_006N INTEGER, \n",
      "P5_007N INTEGER, \n",
      "P5_008N INTEGER, \n",
      "P5_009N INTEGER, \n",
      "P5_010N INTEGER);\n"
     ]
    }
   ],
   "source": [
    "cur.execute('DROP TABLE IF EXISTS {}'.format(tabname))\n",
    "dbstring=\"\"\"\n",
    "CREATE TABLE {} (\n",
    "GEOIDLONG TEXT NOT NULL PRIMARY KEY,\n",
    "GEOIDSHORT TEXT,\n",
    "GEOLABEL TEXT,\n",
    "\"\"\".format(tabname)\n",
    "\n",
    "for k,v in vardict.items():\n",
    "    dbstring=dbstring+k+' '+v[1]+', \\n'\n",
    "    \n",
    "dbstring=dbstring[:-3]\n",
    "dbstring=dbstring+');'\n",
    "print(dbstring)"
   ]
  },
  {
   "cell_type": "code",
   "execution_count": 21,
   "metadata": {},
   "outputs": [
    {
     "data": {
      "text/plain": [
       "<sqlite3.Cursor at 0x2d72d146490>"
      ]
     },
     "execution_count": 21,
     "metadata": {},
     "output_type": "execute_result"
    }
   ],
   "source": [
    "cur.execute(dbstring)"
   ]
  },
  {
   "cell_type": "code",
   "execution_count": 22,
   "metadata": {},
   "outputs": [],
   "source": [
    "censusdata.to_sql(name=tabname, if_exists='append', index=True, con=con)"
   ]
  },
  {
   "cell_type": "code",
   "execution_count": 23,
   "metadata": {},
   "outputs": [
    {
     "name": "stdout",
     "output_type": "stream",
     "text": [
      "250 records written to tracts_census2020_plrd\n"
     ]
    }
   ],
   "source": [
    "cur.execute('SELECT COUNT(*) FROM {};'.format(tabname))\n",
    "rows = cur.fetchone()\n",
    "print(rows[0], 'records written to', tabname)"
   ]
  },
  {
   "cell_type": "code",
   "execution_count": 24,
   "metadata": {},
   "outputs": [
    {
     "name": "stdout",
     "output_type": "stream",
     "text": [
      "52 columns written to tracts_census2020_plrd\n"
     ]
    }
   ],
   "source": [
    "cur.execute('SELECT * FROM {} LIMIT 1;'.format(tabname))\n",
    "col_names = [cn[0] for cn in cur.description]\n",
    "print(len(col_names), 'columns written to', tabname)\n",
    "#Number should be same as number in df acsdata plus 1, since index not included in df count"
   ]
  },
  {
   "cell_type": "code",
   "execution_count": 25,
   "metadata": {},
   "outputs": [],
   "source": [
    "con.close()"
   ]
  },
  {
   "cell_type": "markdown",
   "metadata": {},
   "source": [
    "## Metadata Table\n",
    "DO NOT RERUN THIS SECTION FOR MULTIPLE GEOGRAPHIES. In the RI Geodatabase there is only one metadata table per census table series (one for plrd, one for profile) for all geographies. For whichever geography is processed first, set action variable to 'create' and run this entire series of blocks for the table. If there was a second table, set the action variable to 'append' and skip the table creation and identifier insertion blocks."
   ]
  },
  {
   "cell_type": "code",
   "execution_count": null,
   "metadata": {},
   "outputs": [],
   "source": [
    "#Change table name and specify an action - you're creating the table for the first time with acs1 variables, \n",
    "#or appending the tables with acs2 variables\n",
    "\n",
    "metatab='census2020_plrd_lookup'\n",
    "action='create' # 'create' or 'append'"
   ]
  },
  {
   "cell_type": "code",
   "execution_count": null,
   "metadata": {},
   "outputs": [],
   "source": [
    "con = sqlite3.connect(dbname) \n",
    "cur = con.cursor()"
   ]
  },
  {
   "cell_type": "code",
   "execution_count": null,
   "metadata": {},
   "outputs": [],
   "source": [
    "#Only run this block when creating initial table\n",
    "if action=='create':\n",
    "    mdstring=\"\"\"\n",
    "    CREATE TABLE {} (\n",
    "    var_id TEXT,\n",
    "    var_value TEXT);\n",
    "    \"\"\".format(metatab)\n",
    "    cur.execute(mdstring)\n",
    "else:\n",
    "    print('Block not executed because \"create\" not selected as an action in earlier block')"
   ]
  },
  {
   "cell_type": "code",
   "execution_count": null,
   "metadata": {},
   "outputs": [],
   "source": [
    "#Only run this block when creating initial table\n",
    "if action=='create':\n",
    "    exstring=\"\"\"\n",
    "        INSERT INTO {} VALUES('GEOIDLONG','Id');\n",
    "        INSERT INTO {} VALUES('GEOIDSHORT','Id2');\n",
    "        INSERT INTO {} VALUES('GEOLABEL','Geography');\n",
    "        \"\"\".format(metatab,metatab,metatab,metatab)\n",
    "    cur.executescript(exstring)\n",
    "    con.commit()\n",
    "else:\n",
    "    print('Block not executed because \"create\" not selected as an action in earlier block')"
   ]
  },
  {
   "cell_type": "code",
   "execution_count": null,
   "metadata": {},
   "outputs": [],
   "source": [
    "#Run when creating table or when appending records\n",
    "#Keys and values - db ids and labels\n",
    "if action in ('create','append'):\n",
    "    for mk, mv in vardict.items():\n",
    "        cur.execute(\"INSERT INTO {} values(?,?)\".format(metatab),(mk,mv[0]))\n",
    "    con.commit()\n",
    "else:\n",
    "    print('Block not executed because action not specified in earlier block')"
   ]
  },
  {
   "cell_type": "code",
   "execution_count": null,
   "metadata": {},
   "outputs": [],
   "source": [
    "cur.execute('SELECT COUNT(*) FROM {};'.format(metatab))\n",
    "rows = cur.fetchone()\n",
    "print(rows[0], 'records in', metatab)"
   ]
  },
  {
   "cell_type": "code",
   "execution_count": null,
   "metadata": {},
   "outputs": [],
   "source": [
    "action=''\n",
    "con.close()"
   ]
  },
  {
   "cell_type": "code",
   "execution_count": null,
   "metadata": {},
   "outputs": [],
   "source": []
  }
 ],
 "metadata": {
  "kernelspec": {
   "display_name": "Python 3 (ipykernel)",
   "language": "python",
   "name": "python3"
  },
  "language_info": {
   "codemirror_mode": {
    "name": "ipython",
    "version": 3
   },
   "file_extension": ".py",
   "mimetype": "text/x-python",
   "name": "python",
   "nbconvert_exporter": "python",
   "pygments_lexer": "ipython3",
   "version": "3.9.7"
  }
 },
 "nbformat": 4,
 "nbformat_minor": 2
}
