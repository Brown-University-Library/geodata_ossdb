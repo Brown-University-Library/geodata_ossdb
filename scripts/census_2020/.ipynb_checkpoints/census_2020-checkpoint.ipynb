{
 "cells": [
  {
   "cell_type": "markdown",
   "metadata": {},
   "source": [
    "# Census 2020\n",
    "\n",
    "Retrieves data from the Census Bureau's 2020 Census API for zctas (not available in plrd), county subdivisions, and tracts. A specific list of census variables is passed into the script, which are retrieved from the public redistricting tables or profile table. Variables must be retrieved in chunks because only 50 can be passed to the API at a time, and each url varies by geography and retreives them in different combinations. After some processing output is written to a SQLite database. An option to create a metadata table appears at the bottom, but should only be run once for a given extract (count and pct) and not for each individual geography.\n",
    "\n",
    "https://www.census.gov/data/developers/data-sets/decennial-census.2020.html"
   ]
  },
  {
   "cell_type": "markdown",
   "metadata": {},
   "source": [
    "## Variables"
   ]
  },
  {
   "cell_type": "code",
   "execution_count": 1,
   "metadata": {},
   "outputs": [],
   "source": [
    "import os, requests, json, sqlite3, random, pandas as pd, numpy as np\n",
    "from IPython.display import clear_output"
   ]
  },
  {
   "cell_type": "code",
   "execution_count": 2,
   "metadata": {},
   "outputs": [],
   "source": [
    "keyfile='census_key.txt'\n",
    "\n",
    "#API variables - UPDATE THE YEAR AND GEO\n",
    "year='2020'\n",
    "geo='zip code tabulation area' # 'zip code tabulation area' or 'county subdivision' or 'tract'\n",
    "state='44'\n",
    "dsource='dec'\n",
    "dname='dp' # pl = public law redistricting data, dp = demographic profile\n",
    "\n",
    "#Variables to read in from spreadsheet - UPDATE WORKSHEET\n",
    "worksheet='pct' # plrd = redistricting file, count = demographic profile counts, pct = demographic profile % totals\n",
    "geoexcelsheet={'zip code tabulation area':'zctas', 'county subdivision':'county_subdivs', 'tract':'tracts'}\n",
    "geotype=geoexcelsheet.get(geo)\n",
    "\n",
    "#SQL output\n",
    "tabname='{}_census{}_{}'.format(geotype,year,worksheet)\n",
    "dbname=os.path.join('outputs','testdb.sqlite')\n",
    "\n",
    "#Dump files for api data storage\n",
    "jsonpath=os.path.join('outputs', tabname+'_retrieved_data.json')"
   ]
  },
  {
   "cell_type": "markdown",
   "metadata": {},
   "source": [
    "## Variable Lists\n",
    "Get full list of variables from the API, read in our retrieval list, and compare the varianle IDs and names to make sure nothing is missing and that nothing has changed since the last iteration. *Don't move on to the next block until both lists match.* Lastly, read in list of geographies."
   ]
  },
  {
   "cell_type": "code",
   "execution_count": 3,
   "metadata": {},
   "outputs": [
    {
     "data": {
      "text/plain": [
       "[('DP1_0100P',\n",
       "  {'label': 'Percent!!HISPANIC OR LATINO BY RACE!!Total population!!Hispanic or Latino!!Asian alone',\n",
       "   'concept': 'PROFILE OF GENERAL POPULATION AND HOUSING CHARACTERISTICS',\n",
       "   'predicateType': 'float',\n",
       "   'group': 'DP1',\n",
       "   'limit': 0,\n",
       "   'attributes': 'DP1_0100PA'}),\n",
       " ('DP1_0131P',\n",
       "  {'label': 'Percent!!RELATIONSHIP!!Total population!!In group quarters!!Noninstitutionalized population:!!Female',\n",
       "   'concept': 'PROFILE OF GENERAL POPULATION AND HOUSING CHARACTERISTICS',\n",
       "   'predicateType': 'float',\n",
       "   'group': 'DP1',\n",
       "   'limit': 0,\n",
       "   'attributes': 'DP1_0131PA'})]"
      ]
     },
     "execution_count": 3,
     "metadata": {},
     "output_type": "execute_result"
    }
   ],
   "source": [
    "datadict={}\n",
    "vars_url = f'https://api.census.gov/data/{year}/{dsource}/{dname}/variables.json'\n",
    "response=requests.get(vars_url)\n",
    "var_data=response.json()\n",
    "datadict.update(var_data['variables'])\n",
    "random.sample(list(datadict.items()), 2)"
   ]
  },
  {
   "cell_type": "code",
   "execution_count": 4,
   "metadata": {},
   "outputs": [
    {
     "data": {
      "text/html": [
       "<div>\n",
       "<style scoped>\n",
       "    .dataframe tbody tr th:only-of-type {\n",
       "        vertical-align: middle;\n",
       "    }\n",
       "\n",
       "    .dataframe tbody tr th {\n",
       "        vertical-align: top;\n",
       "    }\n",
       "\n",
       "    .dataframe thead th {\n",
       "        text-align: right;\n",
       "    }\n",
       "</style>\n",
       "<table border=\"1\" class=\"dataframe\">\n",
       "  <thead>\n",
       "    <tr style=\"text-align: right;\">\n",
       "      <th></th>\n",
       "      <th>census_var</th>\n",
       "      <th>census_label</th>\n",
       "      <th>dtype</th>\n",
       "    </tr>\n",
       "  </thead>\n",
       "  <tbody>\n",
       "    <tr>\n",
       "      <th>0</th>\n",
       "      <td>DP1_0001P</td>\n",
       "      <td>Percent!!SEX AND AGE!!Total population</td>\n",
       "      <td>float</td>\n",
       "    </tr>\n",
       "    <tr>\n",
       "      <th>1</th>\n",
       "      <td>DP1_0002P</td>\n",
       "      <td>Percent!!SEX AND AGE!!Total population!!Under ...</td>\n",
       "      <td>float</td>\n",
       "    </tr>\n",
       "    <tr>\n",
       "      <th>2</th>\n",
       "      <td>DP1_0003P</td>\n",
       "      <td>Percent!!SEX AND AGE!!Total population!!5 to 9...</td>\n",
       "      <td>float</td>\n",
       "    </tr>\n",
       "    <tr>\n",
       "      <th>3</th>\n",
       "      <td>DP1_0004P</td>\n",
       "      <td>Percent!!SEX AND AGE!!Total population!!10 to ...</td>\n",
       "      <td>float</td>\n",
       "    </tr>\n",
       "    <tr>\n",
       "      <th>4</th>\n",
       "      <td>DP1_0005P</td>\n",
       "      <td>Percent!!SEX AND AGE!!Total population!!15 to ...</td>\n",
       "      <td>float</td>\n",
       "    </tr>\n",
       "  </tbody>\n",
       "</table>\n",
       "</div>"
      ],
      "text/plain": [
       "  census_var                                       census_label  dtype\n",
       "0  DP1_0001P             Percent!!SEX AND AGE!!Total population  float\n",
       "1  DP1_0002P  Percent!!SEX AND AGE!!Total population!!Under ...  float\n",
       "2  DP1_0003P  Percent!!SEX AND AGE!!Total population!!5 to 9...  float\n",
       "3  DP1_0004P  Percent!!SEX AND AGE!!Total population!!10 to ...  float\n",
       "4  DP1_0005P  Percent!!SEX AND AGE!!Total population!!15 to ...  float"
      ]
     },
     "execution_count": 4,
     "metadata": {},
     "output_type": "execute_result"
    }
   ],
   "source": [
    "dfexcel = pd.read_excel(os.path.join('inputs','dec2020_variables.xlsx'),sheet_name=worksheet)\n",
    "dfexcel.head()"
   ]
  },
  {
   "cell_type": "code",
   "execution_count": 5,
   "metadata": {},
   "outputs": [
    {
     "name": "stdout",
     "output_type": "stream",
     "text": [
      "There are an equal number of variables in both lists: 160\n"
     ]
    }
   ],
   "source": [
    "dfvars = pd.DataFrame.from_dict(datadict,columns=['label'],orient='index')\n",
    "dfvars_selected=dfvars.loc[dfvars.index.isin(dfexcel['census_var'])]\n",
    "dfvars_count=len(dfvars_selected)\n",
    "dfexcel_count=len(dfexcel['census_var'])\n",
    "\n",
    "if dfvars_count==dfexcel_count:\n",
    "    print('There are an equal number of variables in both lists:', dfvars_count)\n",
    "else:\n",
    "    print('There is a mismatch in the number of variables; the api has,', dfvars_count, \n",
    "          'while the original list has',dfexcel_count,'. Missing:')\n",
    "    nomatch=dfexcel[~dfexcel['census_var'].isin(dfvars_selected.index)]\n",
    "    print(nomatch)"
   ]
  },
  {
   "cell_type": "code",
   "execution_count": 6,
   "metadata": {},
   "outputs": [
    {
     "name": "stdout",
     "output_type": "stream",
     "text": [
      "Number of geographic indetifiers: 81\n"
     ]
    }
   ],
   "source": [
    "# Geographic indetifiers: zctas to retrieve, pumas to filter by, and counties containing tracts to retrieve\n",
    "excelgeo = pd.read_excel(os.path.join('inputs','dec2020_variables.xlsx'),sheet_name=geotype, dtype=object)\n",
    "geoids = excelgeo['GEO'].tolist()\n",
    "print('Number of geographic indetifiers:',len(geoids))"
   ]
  },
  {
   "cell_type": "markdown",
   "metadata": {},
   "source": [
    "## Retrieve Data\n",
    "Given the large number of variables and limits of the API, variables must be passed to the url in separate blocks or chunks. The first chunk that's captured is written to an empty datalist; the header row and then one row for each geography. Each subsequent chunk is iterated through by row, so each row is appended to the correct row in datalist. In all cases, the last values, identifiers automatically returned with each API call, are not appended."
   ]
  },
  {
   "cell_type": "code",
   "execution_count": 7,
   "metadata": {},
   "outputs": [],
   "source": [
    "def chunks(l, n):\n",
    "    # For item i in a range that is a length of l,\n",
    "    for i in range(0, len(l), n):\n",
    "        # Create an index range for l of n items:\n",
    "        yield l[i:i+n]"
   ]
  },
  {
   "cell_type": "code",
   "execution_count": 8,
   "metadata": {},
   "outputs": [
    {
     "name": "stdout",
     "output_type": "stream",
     "text": [
      "Number of chunks: 4\n"
     ]
    }
   ],
   "source": [
    "reqvars=list(chunks(dfvars_selected.index.tolist(),46))\n",
    "reqvars[0].insert(0,'NAME')\n",
    "reqvars[0].insert(0,'GEO_ID')\n",
    "print('Number of chunks:',len(reqvars))"
   ]
  },
  {
   "cell_type": "code",
   "execution_count": 9,
   "metadata": {},
   "outputs": [
    {
     "data": {
      "text/plain": [
       "'https://api.census.gov/data/2020/dec/dp'"
      ]
     },
     "execution_count": 9,
     "metadata": {},
     "output_type": "execute_result"
    }
   ],
   "source": [
    "with open(keyfile) as key:\n",
    "    api_key=key.read().strip()\n",
    "\n",
    "base_url = f'https://api.census.gov/data/{year}/{dsource}/{dname}'\n",
    "base_url"
   ]
  },
  {
   "cell_type": "code",
   "execution_count": 10,
   "metadata": {},
   "outputs": [],
   "source": [
    "#Function for retrieving data; running this block loads it into memory\n",
    "#Different geographies have different urls, \n",
    "#and a different number of identifiers tacked on to the end of each request\n",
    "\n",
    "def getdata():\n",
    "    dlist=[]\n",
    "    for i, v in enumerate(reqvars):\n",
    "        batchcols=','.join(v)\n",
    "        if geotype=='zctas':\n",
    "            data_url = f'{base_url}?get={batchcols}&for={geo}:{g}&key={api_key}'\n",
    "            dropvar=-1\n",
    "        elif geotype=='county_subdivs':\n",
    "            data_url = f'{base_url}?get={batchcols}&for={geo}:*&in=state:{state}&in=county:{county}&key={api_key}'\n",
    "            dropvar=-3\n",
    "        elif geotype=='tracts':\n",
    "            data_url = f'{base_url}?get={batchcols}&for={geo}:*&in=state:{state}&in=county:{county}&key={api_key}'\n",
    "            dropvar=-3\n",
    "        else:\n",
    "            print('Appropriate geography not specified in variables block')\n",
    "            break  \n",
    "        response=requests.get(data_url)\n",
    "        if response.status_code==200:\n",
    "            clear_output(wait=True)\n",
    "            data=response.json()\n",
    "            for i2, v2 in enumerate(data):\n",
    "                if i == 0:\n",
    "                    dlist.append(v2[:dropvar])\n",
    "                else:\n",
    "                    for item in v2[:dropvar]:\n",
    "                        dlist[i2].append(item)\n",
    "        else:\n",
    "            print('***Problem with retrieval***, response code',response.status_code)\n",
    "    return dlist"
   ]
  },
  {
   "cell_type": "markdown",
   "metadata": {},
   "source": [
    "##### ***THIS BLOCK IS A REQUESTS BLOCK!***\n",
    "*NOTE: ZCTA retrieval takes a long time - 5 mins for 80 ZCTAs*"
   ]
  },
  {
   "cell_type": "code",
   "execution_count": 11,
   "metadata": {},
   "outputs": [
    {
     "name": "stdout",
     "output_type": "stream",
     "text": [
      "Retrieved data for 02921\n",
      "Retrieved 82 records and 13284 data points with 162.0 points for each record...\n",
      "Done - Data dumped to json file\n"
     ]
    }
   ],
   "source": [
    "#If this block was run successfully for a given table and geography don't rerun - next block pulls from saved json\n",
    "datalist=[]\n",
    "if geotype=='zctas':\n",
    "    for g in geoids:\n",
    "        georecord=getdata()\n",
    "        print('Retrieved data for',g)\n",
    "        if len(datalist)==0:\n",
    "            datalist.append(georecord[0])\n",
    "            datalist.append(georecord[1])\n",
    "        else:\n",
    "            datalist.append(georecord[1])\n",
    "else:\n",
    "    for county in geoids:\n",
    "        georecord=getdata()\n",
    "        print('Retrieved data for',county)\n",
    "        if len(datalist)==0:\n",
    "            for geog in georecord:\n",
    "                datalist.append(geog)\n",
    "        else:\n",
    "            for geog in georecord[1:]:\n",
    "                datalist.append(geog)\n",
    "    \n",
    "dlrows=len(datalist)\n",
    "dlitems=sum(len(x) for x in datalist)\n",
    "dlbyrow=dlitems / dlrows\n",
    "print('Retrieved', dlrows, 'records and', dlitems,'data points with', dlbyrow, 'points for each record...')\n",
    "        \n",
    "with open(jsonpath, 'w') as f:\n",
    "    json.dump(datalist, f)\n",
    "print('Done - Data dumped to json file')"
   ]
  },
  {
   "cell_type": "markdown",
   "metadata": {},
   "source": [
    "## Process Data\n",
    "Replace footnotes with nulls, create a new GEOID2 column, replace census variable names with database variable names."
   ]
  },
  {
   "cell_type": "code",
   "execution_count": 12,
   "metadata": {},
   "outputs": [
    {
     "name": "stdout",
     "output_type": "stream",
     "text": [
      "<class 'pandas.core.frame.DataFrame'>\n",
      "Index: 81 entries, 860Z200US02802 to 860Z200US02921\n",
      "Columns: 161 entries, GEOLABEL to DP1_0160P\n",
      "dtypes: object(161)\n",
      "memory usage: 102.5+ KB\n"
     ]
    }
   ],
   "source": [
    "with open(jsonpath, 'r') as f:\n",
    "    jsondata=json.load(f)\n",
    "alldata = pd.DataFrame(jsondata[1:],columns=jsondata[0],dtype=object).rename(columns={\n",
    "    'GEO_ID':'GEOIDLONG','NAME':'GEOLABEL'}).set_index('GEOIDLONG')\n",
    "alldata.info()\n",
    "# Index and column entries should be 1 row and 1 column less than previous count (excludes header row and index column) "
   ]
  },
  {
   "cell_type": "code",
   "execution_count": 13,
   "metadata": {},
   "outputs": [
    {
     "data": {
      "text/html": [
       "<div>\n",
       "<style scoped>\n",
       "    .dataframe tbody tr th:only-of-type {\n",
       "        vertical-align: middle;\n",
       "    }\n",
       "\n",
       "    .dataframe tbody tr th {\n",
       "        vertical-align: top;\n",
       "    }\n",
       "\n",
       "    .dataframe thead th {\n",
       "        text-align: right;\n",
       "    }\n",
       "</style>\n",
       "<table border=\"1\" class=\"dataframe\">\n",
       "  <thead>\n",
       "    <tr style=\"text-align: right;\">\n",
       "      <th></th>\n",
       "      <th>GEOLABEL</th>\n",
       "      <th>DP1_0001P</th>\n",
       "      <th>DP1_0002P</th>\n",
       "      <th>DP1_0003P</th>\n",
       "      <th>DP1_0004P</th>\n",
       "      <th>DP1_0005P</th>\n",
       "      <th>DP1_0006P</th>\n",
       "      <th>DP1_0007P</th>\n",
       "      <th>DP1_0008P</th>\n",
       "      <th>DP1_0009P</th>\n",
       "      <th>...</th>\n",
       "      <th>DP1_0151P</th>\n",
       "      <th>DP1_0152P</th>\n",
       "      <th>DP1_0153P</th>\n",
       "      <th>DP1_0154P</th>\n",
       "      <th>DP1_0155P</th>\n",
       "      <th>DP1_0156P</th>\n",
       "      <th>DP1_0157P</th>\n",
       "      <th>DP1_0158P</th>\n",
       "      <th>DP1_0159P</th>\n",
       "      <th>DP1_0160P</th>\n",
       "    </tr>\n",
       "    <tr>\n",
       "      <th>GEOIDLONG</th>\n",
       "      <th></th>\n",
       "      <th></th>\n",
       "      <th></th>\n",
       "      <th></th>\n",
       "      <th></th>\n",
       "      <th></th>\n",
       "      <th></th>\n",
       "      <th></th>\n",
       "      <th></th>\n",
       "      <th></th>\n",
       "      <th></th>\n",
       "      <th></th>\n",
       "      <th></th>\n",
       "      <th></th>\n",
       "      <th></th>\n",
       "      <th></th>\n",
       "      <th></th>\n",
       "      <th></th>\n",
       "      <th></th>\n",
       "      <th></th>\n",
       "      <th></th>\n",
       "    </tr>\n",
       "  </thead>\n",
       "  <tbody>\n",
       "    <tr>\n",
       "      <th>860Z200US02802</th>\n",
       "      <td>ZCTA5 02802</td>\n",
       "      <td>100.0</td>\n",
       "      <td>2.6</td>\n",
       "      <td>4.8</td>\n",
       "      <td>4.2</td>\n",
       "      <td>3.6</td>\n",
       "      <td>2.8</td>\n",
       "      <td>3.7</td>\n",
       "      <td>2.3</td>\n",
       "      <td>8.8</td>\n",
       "      <td>...</td>\n",
       "      <td>0.0</td>\n",
       "      <td>0.4</td>\n",
       "      <td>2.1</td>\n",
       "      <td>0.8</td>\n",
       "      <td>2.1</td>\n",
       "      <td>-888888888</td>\n",
       "      <td>-888888888</td>\n",
       "      <td>100.0</td>\n",
       "      <td>67.3</td>\n",
       "      <td>32.7</td>\n",
       "    </tr>\n",
       "    <tr>\n",
       "      <th>860Z200US02804</th>\n",
       "      <td>ZCTA5 02804</td>\n",
       "      <td>100.0</td>\n",
       "      <td>4.7</td>\n",
       "      <td>6.1</td>\n",
       "      <td>5.6</td>\n",
       "      <td>5.7</td>\n",
       "      <td>5.1</td>\n",
       "      <td>5.6</td>\n",
       "      <td>4.7</td>\n",
       "      <td>6.8</td>\n",
       "      <td>...</td>\n",
       "      <td>0.1</td>\n",
       "      <td>1.7</td>\n",
       "      <td>1.0</td>\n",
       "      <td>2.2</td>\n",
       "      <td>0.7</td>\n",
       "      <td>-888888888</td>\n",
       "      <td>-888888888</td>\n",
       "      <td>100.0</td>\n",
       "      <td>84.8</td>\n",
       "      <td>15.2</td>\n",
       "    </tr>\n",
       "    <tr>\n",
       "      <th>860Z200US02806</th>\n",
       "      <td>ZCTA5 02806</td>\n",
       "      <td>100.0</td>\n",
       "      <td>4.8</td>\n",
       "      <td>7.0</td>\n",
       "      <td>9.0</td>\n",
       "      <td>8.2</td>\n",
       "      <td>4.7</td>\n",
       "      <td>2.7</td>\n",
       "      <td>3.4</td>\n",
       "      <td>5.6</td>\n",
       "      <td>...</td>\n",
       "      <td>0.0</td>\n",
       "      <td>0.9</td>\n",
       "      <td>0.5</td>\n",
       "      <td>1.8</td>\n",
       "      <td>1.4</td>\n",
       "      <td>-888888888</td>\n",
       "      <td>-888888888</td>\n",
       "      <td>100.0</td>\n",
       "      <td>87.0</td>\n",
       "      <td>13.0</td>\n",
       "    </tr>\n",
       "  </tbody>\n",
       "</table>\n",
       "<p>3 rows × 161 columns</p>\n",
       "</div>"
      ],
      "text/plain": [
       "                   GEOLABEL DP1_0001P DP1_0002P DP1_0003P DP1_0004P DP1_0005P  \\\n",
       "GEOIDLONG                                                                       \n",
       "860Z200US02802  ZCTA5 02802     100.0       2.6       4.8       4.2       3.6   \n",
       "860Z200US02804  ZCTA5 02804     100.0       4.7       6.1       5.6       5.7   \n",
       "860Z200US02806  ZCTA5 02806     100.0       4.8       7.0       9.0       8.2   \n",
       "\n",
       "               DP1_0006P DP1_0007P DP1_0008P DP1_0009P  ... DP1_0151P  \\\n",
       "GEOIDLONG                                               ...             \n",
       "860Z200US02802       2.8       3.7       2.3       8.8  ...       0.0   \n",
       "860Z200US02804       5.1       5.6       4.7       6.8  ...       0.1   \n",
       "860Z200US02806       4.7       2.7       3.4       5.6  ...       0.0   \n",
       "\n",
       "               DP1_0152P DP1_0153P DP1_0154P DP1_0155P   DP1_0156P  \\\n",
       "GEOIDLONG                                                            \n",
       "860Z200US02802       0.4       2.1       0.8       2.1  -888888888   \n",
       "860Z200US02804       1.7       1.0       2.2       0.7  -888888888   \n",
       "860Z200US02806       0.9       0.5       1.8       1.4  -888888888   \n",
       "\n",
       "                 DP1_0157P DP1_0158P DP1_0159P DP1_0160P  \n",
       "GEOIDLONG                                                 \n",
       "860Z200US02802  -888888888     100.0      67.3      32.7  \n",
       "860Z200US02804  -888888888     100.0      84.8      15.2  \n",
       "860Z200US02806  -888888888     100.0      87.0      13.0  \n",
       "\n",
       "[3 rows x 161 columns]"
      ]
     },
     "execution_count": 13,
     "metadata": {},
     "output_type": "execute_result"
    }
   ],
   "source": [
    "alldata.head(3)"
   ]
  },
  {
   "cell_type": "code",
   "execution_count": 14,
   "metadata": {},
   "outputs": [],
   "source": [
    "#This is a lousy solution, come up with something better in the future\n",
    "footnotes=['-999999999','-999999999.0', '-999999999.00',\n",
    "           '-888888888','-888888888.0', '-888888888.00',\n",
    "           '-666666666','-666666666.0', '-666666666.00',\n",
    "           '-555555555','-555555555.0', '-555555555.00',\n",
    "           '-333333333','-333333333.0', '-333333333.00',\n",
    "           '-222222222','-222222222.0', '-222222222.00']\n",
    "alldata.replace(footnotes,np.nan,inplace=True)"
   ]
  },
  {
   "cell_type": "code",
   "execution_count": 15,
   "metadata": {},
   "outputs": [
    {
     "data": {
      "text/html": [
       "<div>\n",
       "<style scoped>\n",
       "    .dataframe tbody tr th:only-of-type {\n",
       "        vertical-align: middle;\n",
       "    }\n",
       "\n",
       "    .dataframe tbody tr th {\n",
       "        vertical-align: top;\n",
       "    }\n",
       "\n",
       "    .dataframe thead th {\n",
       "        text-align: right;\n",
       "    }\n",
       "</style>\n",
       "<table border=\"1\" class=\"dataframe\">\n",
       "  <thead>\n",
       "    <tr style=\"text-align: right;\">\n",
       "      <th></th>\n",
       "      <th>GEOIDSHORT</th>\n",
       "      <th>GEOLABEL</th>\n",
       "      <th>DP1_0001P</th>\n",
       "      <th>DP1_0002P</th>\n",
       "      <th>DP1_0003P</th>\n",
       "      <th>DP1_0004P</th>\n",
       "      <th>DP1_0005P</th>\n",
       "      <th>DP1_0006P</th>\n",
       "      <th>DP1_0007P</th>\n",
       "      <th>DP1_0008P</th>\n",
       "      <th>...</th>\n",
       "      <th>DP1_0151P</th>\n",
       "      <th>DP1_0152P</th>\n",
       "      <th>DP1_0153P</th>\n",
       "      <th>DP1_0154P</th>\n",
       "      <th>DP1_0155P</th>\n",
       "      <th>DP1_0156P</th>\n",
       "      <th>DP1_0157P</th>\n",
       "      <th>DP1_0158P</th>\n",
       "      <th>DP1_0159P</th>\n",
       "      <th>DP1_0160P</th>\n",
       "    </tr>\n",
       "    <tr>\n",
       "      <th>GEOIDLONG</th>\n",
       "      <th></th>\n",
       "      <th></th>\n",
       "      <th></th>\n",
       "      <th></th>\n",
       "      <th></th>\n",
       "      <th></th>\n",
       "      <th></th>\n",
       "      <th></th>\n",
       "      <th></th>\n",
       "      <th></th>\n",
       "      <th></th>\n",
       "      <th></th>\n",
       "      <th></th>\n",
       "      <th></th>\n",
       "      <th></th>\n",
       "      <th></th>\n",
       "      <th></th>\n",
       "      <th></th>\n",
       "      <th></th>\n",
       "      <th></th>\n",
       "      <th></th>\n",
       "    </tr>\n",
       "  </thead>\n",
       "  <tbody>\n",
       "    <tr>\n",
       "      <th>860Z200US02802</th>\n",
       "      <td>02802</td>\n",
       "      <td>ZCTA5 02802</td>\n",
       "      <td>100.0</td>\n",
       "      <td>2.6</td>\n",
       "      <td>4.8</td>\n",
       "      <td>4.2</td>\n",
       "      <td>3.6</td>\n",
       "      <td>2.8</td>\n",
       "      <td>3.7</td>\n",
       "      <td>2.3</td>\n",
       "      <td>...</td>\n",
       "      <td>0.0</td>\n",
       "      <td>0.4</td>\n",
       "      <td>2.1</td>\n",
       "      <td>0.8</td>\n",
       "      <td>2.1</td>\n",
       "      <td>NaN</td>\n",
       "      <td>NaN</td>\n",
       "      <td>100.0</td>\n",
       "      <td>67.3</td>\n",
       "      <td>32.7</td>\n",
       "    </tr>\n",
       "    <tr>\n",
       "      <th>860Z200US02804</th>\n",
       "      <td>02804</td>\n",
       "      <td>ZCTA5 02804</td>\n",
       "      <td>100.0</td>\n",
       "      <td>4.7</td>\n",
       "      <td>6.1</td>\n",
       "      <td>5.6</td>\n",
       "      <td>5.7</td>\n",
       "      <td>5.1</td>\n",
       "      <td>5.6</td>\n",
       "      <td>4.7</td>\n",
       "      <td>...</td>\n",
       "      <td>0.1</td>\n",
       "      <td>1.7</td>\n",
       "      <td>1.0</td>\n",
       "      <td>2.2</td>\n",
       "      <td>0.7</td>\n",
       "      <td>NaN</td>\n",
       "      <td>NaN</td>\n",
       "      <td>100.0</td>\n",
       "      <td>84.8</td>\n",
       "      <td>15.2</td>\n",
       "    </tr>\n",
       "    <tr>\n",
       "      <th>860Z200US02806</th>\n",
       "      <td>02806</td>\n",
       "      <td>ZCTA5 02806</td>\n",
       "      <td>100.0</td>\n",
       "      <td>4.8</td>\n",
       "      <td>7.0</td>\n",
       "      <td>9.0</td>\n",
       "      <td>8.2</td>\n",
       "      <td>4.7</td>\n",
       "      <td>2.7</td>\n",
       "      <td>3.4</td>\n",
       "      <td>...</td>\n",
       "      <td>0.0</td>\n",
       "      <td>0.9</td>\n",
       "      <td>0.5</td>\n",
       "      <td>1.8</td>\n",
       "      <td>1.4</td>\n",
       "      <td>NaN</td>\n",
       "      <td>NaN</td>\n",
       "      <td>100.0</td>\n",
       "      <td>87.0</td>\n",
       "      <td>13.0</td>\n",
       "    </tr>\n",
       "  </tbody>\n",
       "</table>\n",
       "<p>3 rows × 162 columns</p>\n",
       "</div>"
      ],
      "text/plain": [
       "               GEOIDSHORT     GEOLABEL DP1_0001P DP1_0002P DP1_0003P  \\\n",
       "GEOIDLONG                                                              \n",
       "860Z200US02802      02802  ZCTA5 02802     100.0       2.6       4.8   \n",
       "860Z200US02804      02804  ZCTA5 02804     100.0       4.7       6.1   \n",
       "860Z200US02806      02806  ZCTA5 02806     100.0       4.8       7.0   \n",
       "\n",
       "               DP1_0004P DP1_0005P DP1_0006P DP1_0007P DP1_0008P  ...  \\\n",
       "GEOIDLONG                                                         ...   \n",
       "860Z200US02802       4.2       3.6       2.8       3.7       2.3  ...   \n",
       "860Z200US02804       5.6       5.7       5.1       5.6       4.7  ...   \n",
       "860Z200US02806       9.0       8.2       4.7       2.7       3.4  ...   \n",
       "\n",
       "               DP1_0151P DP1_0152P DP1_0153P DP1_0154P DP1_0155P DP1_0156P  \\\n",
       "GEOIDLONG                                                                    \n",
       "860Z200US02802       0.0       0.4       2.1       0.8       2.1       NaN   \n",
       "860Z200US02804       0.1       1.7       1.0       2.2       0.7       NaN   \n",
       "860Z200US02806       0.0       0.9       0.5       1.8       1.4       NaN   \n",
       "\n",
       "               DP1_0157P DP1_0158P DP1_0159P DP1_0160P  \n",
       "GEOIDLONG                                               \n",
       "860Z200US02802       NaN     100.0      67.3      32.7  \n",
       "860Z200US02804       NaN     100.0      84.8      15.2  \n",
       "860Z200US02806       NaN     100.0      87.0      13.0  \n",
       "\n",
       "[3 rows x 162 columns]"
      ]
     },
     "execution_count": 15,
     "metadata": {},
     "output_type": "execute_result"
    }
   ],
   "source": [
    "idxgeoid2={'zctas':-5, 'county_subdivs':-10,'tracts':-11}\n",
    "alldata.insert(loc=0, column='GEOIDSHORT',value=alldata.index.str[idxgeoid2.get(geotype):])\n",
    "alldata.head(3)"
   ]
  },
  {
   "cell_type": "code",
   "execution_count": 16,
   "metadata": {},
   "outputs": [
    {
     "data": {
      "text/plain": [
       "(81, 162)"
      ]
     },
     "execution_count": 16,
     "metadata": {},
     "output_type": "execute_result"
    }
   ],
   "source": [
    "# For PUMAS filter all the geotype for the state by local areas\n",
    "if geotype == 'pumas':\n",
    "    censusdata=alldata.loc[alldata.GEOID2.isin(geoids)].copy().astype(object).sort_index()\n",
    "else:\n",
    "    censusdata=alldata.copy().astype(object).sort_index()\n",
    "censusdata.shape"
   ]
  },
  {
   "cell_type": "code",
   "execution_count": 17,
   "metadata": {},
   "outputs": [
    {
     "data": {
      "text/html": [
       "<div>\n",
       "<style scoped>\n",
       "    .dataframe tbody tr th:only-of-type {\n",
       "        vertical-align: middle;\n",
       "    }\n",
       "\n",
       "    .dataframe tbody tr th {\n",
       "        vertical-align: top;\n",
       "    }\n",
       "\n",
       "    .dataframe thead th {\n",
       "        text-align: right;\n",
       "    }\n",
       "</style>\n",
       "<table border=\"1\" class=\"dataframe\">\n",
       "  <thead>\n",
       "    <tr style=\"text-align: right;\">\n",
       "      <th></th>\n",
       "      <th>GEOIDSHORT</th>\n",
       "      <th>GEOLABEL</th>\n",
       "      <th>DP1_0001P</th>\n",
       "      <th>DP1_0002P</th>\n",
       "      <th>DP1_0003P</th>\n",
       "      <th>DP1_0004P</th>\n",
       "      <th>DP1_0005P</th>\n",
       "      <th>DP1_0006P</th>\n",
       "      <th>DP1_0007P</th>\n",
       "      <th>DP1_0008P</th>\n",
       "      <th>...</th>\n",
       "      <th>DP1_0151P</th>\n",
       "      <th>DP1_0152P</th>\n",
       "      <th>DP1_0153P</th>\n",
       "      <th>DP1_0154P</th>\n",
       "      <th>DP1_0155P</th>\n",
       "      <th>DP1_0156P</th>\n",
       "      <th>DP1_0157P</th>\n",
       "      <th>DP1_0158P</th>\n",
       "      <th>DP1_0159P</th>\n",
       "      <th>DP1_0160P</th>\n",
       "    </tr>\n",
       "    <tr>\n",
       "      <th>GEOIDLONG</th>\n",
       "      <th></th>\n",
       "      <th></th>\n",
       "      <th></th>\n",
       "      <th></th>\n",
       "      <th></th>\n",
       "      <th></th>\n",
       "      <th></th>\n",
       "      <th></th>\n",
       "      <th></th>\n",
       "      <th></th>\n",
       "      <th></th>\n",
       "      <th></th>\n",
       "      <th></th>\n",
       "      <th></th>\n",
       "      <th></th>\n",
       "      <th></th>\n",
       "      <th></th>\n",
       "      <th></th>\n",
       "      <th></th>\n",
       "      <th></th>\n",
       "      <th></th>\n",
       "    </tr>\n",
       "  </thead>\n",
       "  <tbody>\n",
       "    <tr>\n",
       "      <th>860Z200US02802</th>\n",
       "      <td>02802</td>\n",
       "      <td>ZCTA5 02802</td>\n",
       "      <td>100.0</td>\n",
       "      <td>2.6</td>\n",
       "      <td>4.8</td>\n",
       "      <td>4.2</td>\n",
       "      <td>3.6</td>\n",
       "      <td>2.8</td>\n",
       "      <td>3.7</td>\n",
       "      <td>2.3</td>\n",
       "      <td>...</td>\n",
       "      <td>0.0</td>\n",
       "      <td>0.4</td>\n",
       "      <td>2.1</td>\n",
       "      <td>0.8</td>\n",
       "      <td>2.1</td>\n",
       "      <td>NaN</td>\n",
       "      <td>NaN</td>\n",
       "      <td>100.0</td>\n",
       "      <td>67.3</td>\n",
       "      <td>32.7</td>\n",
       "    </tr>\n",
       "    <tr>\n",
       "      <th>860Z200US02804</th>\n",
       "      <td>02804</td>\n",
       "      <td>ZCTA5 02804</td>\n",
       "      <td>100.0</td>\n",
       "      <td>4.7</td>\n",
       "      <td>6.1</td>\n",
       "      <td>5.6</td>\n",
       "      <td>5.7</td>\n",
       "      <td>5.1</td>\n",
       "      <td>5.6</td>\n",
       "      <td>4.7</td>\n",
       "      <td>...</td>\n",
       "      <td>0.1</td>\n",
       "      <td>1.7</td>\n",
       "      <td>1.0</td>\n",
       "      <td>2.2</td>\n",
       "      <td>0.7</td>\n",
       "      <td>NaN</td>\n",
       "      <td>NaN</td>\n",
       "      <td>100.0</td>\n",
       "      <td>84.8</td>\n",
       "      <td>15.2</td>\n",
       "    </tr>\n",
       "    <tr>\n",
       "      <th>860Z200US02806</th>\n",
       "      <td>02806</td>\n",
       "      <td>ZCTA5 02806</td>\n",
       "      <td>100.0</td>\n",
       "      <td>4.8</td>\n",
       "      <td>7.0</td>\n",
       "      <td>9.0</td>\n",
       "      <td>8.2</td>\n",
       "      <td>4.7</td>\n",
       "      <td>2.7</td>\n",
       "      <td>3.4</td>\n",
       "      <td>...</td>\n",
       "      <td>0.0</td>\n",
       "      <td>0.9</td>\n",
       "      <td>0.5</td>\n",
       "      <td>1.8</td>\n",
       "      <td>1.4</td>\n",
       "      <td>NaN</td>\n",
       "      <td>NaN</td>\n",
       "      <td>100.0</td>\n",
       "      <td>87.0</td>\n",
       "      <td>13.0</td>\n",
       "    </tr>\n",
       "  </tbody>\n",
       "</table>\n",
       "<p>3 rows × 162 columns</p>\n",
       "</div>"
      ],
      "text/plain": [
       "               GEOIDSHORT     GEOLABEL DP1_0001P DP1_0002P DP1_0003P  \\\n",
       "GEOIDLONG                                                              \n",
       "860Z200US02802      02802  ZCTA5 02802     100.0       2.6       4.8   \n",
       "860Z200US02804      02804  ZCTA5 02804     100.0       4.7       6.1   \n",
       "860Z200US02806      02806  ZCTA5 02806     100.0       4.8       7.0   \n",
       "\n",
       "               DP1_0004P DP1_0005P DP1_0006P DP1_0007P DP1_0008P  ...  \\\n",
       "GEOIDLONG                                                         ...   \n",
       "860Z200US02802       4.2       3.6       2.8       3.7       2.3  ...   \n",
       "860Z200US02804       5.6       5.7       5.1       5.6       4.7  ...   \n",
       "860Z200US02806       9.0       8.2       4.7       2.7       3.4  ...   \n",
       "\n",
       "               DP1_0151P DP1_0152P DP1_0153P DP1_0154P DP1_0155P DP1_0156P  \\\n",
       "GEOIDLONG                                                                    \n",
       "860Z200US02802       0.0       0.4       2.1       0.8       2.1       NaN   \n",
       "860Z200US02804       0.1       1.7       1.0       2.2       0.7       NaN   \n",
       "860Z200US02806       0.0       0.9       0.5       1.8       1.4       NaN   \n",
       "\n",
       "               DP1_0157P DP1_0158P DP1_0159P DP1_0160P  \n",
       "GEOIDLONG                                               \n",
       "860Z200US02802       NaN     100.0      67.3      32.7  \n",
       "860Z200US02804       NaN     100.0      84.8      15.2  \n",
       "860Z200US02806       NaN     100.0      87.0      13.0  \n",
       "\n",
       "[3 rows x 162 columns]"
      ]
     },
     "execution_count": 17,
     "metadata": {},
     "output_type": "execute_result"
    }
   ],
   "source": [
    "censusdata.head(3)"
   ]
  },
  {
   "cell_type": "markdown",
   "metadata": {},
   "source": [
    "## Write to Database\n",
    "Update list of variables and data types, build create table string, create datatable in temporary database.\n"
   ]
  },
  {
   "cell_type": "code",
   "execution_count": 18,
   "metadata": {},
   "outputs": [
    {
     "data": {
      "text/html": [
       "<div>\n",
       "<style scoped>\n",
       "    .dataframe tbody tr th:only-of-type {\n",
       "        vertical-align: middle;\n",
       "    }\n",
       "\n",
       "    .dataframe tbody tr th {\n",
       "        vertical-align: top;\n",
       "    }\n",
       "\n",
       "    .dataframe thead th {\n",
       "        text-align: right;\n",
       "    }\n",
       "</style>\n",
       "<table border=\"1\" class=\"dataframe\">\n",
       "  <thead>\n",
       "    <tr style=\"text-align: right;\">\n",
       "      <th></th>\n",
       "      <th>census_var</th>\n",
       "      <th>census_label</th>\n",
       "      <th>dtype</th>\n",
       "    </tr>\n",
       "  </thead>\n",
       "  <tbody>\n",
       "    <tr>\n",
       "      <th>0</th>\n",
       "      <td>DP1_0001P</td>\n",
       "      <td>Percent - SEX AND AGE - Total population</td>\n",
       "      <td>REAL</td>\n",
       "    </tr>\n",
       "    <tr>\n",
       "      <th>1</th>\n",
       "      <td>DP1_0002P</td>\n",
       "      <td>Percent - SEX AND AGE - Total population - Und...</td>\n",
       "      <td>REAL</td>\n",
       "    </tr>\n",
       "    <tr>\n",
       "      <th>2</th>\n",
       "      <td>DP1_0003P</td>\n",
       "      <td>Percent - SEX AND AGE - Total population - 5 t...</td>\n",
       "      <td>REAL</td>\n",
       "    </tr>\n",
       "    <tr>\n",
       "      <th>3</th>\n",
       "      <td>DP1_0004P</td>\n",
       "      <td>Percent - SEX AND AGE - Total population - 10 ...</td>\n",
       "      <td>REAL</td>\n",
       "    </tr>\n",
       "    <tr>\n",
       "      <th>4</th>\n",
       "      <td>DP1_0005P</td>\n",
       "      <td>Percent - SEX AND AGE - Total population - 15 ...</td>\n",
       "      <td>REAL</td>\n",
       "    </tr>\n",
       "  </tbody>\n",
       "</table>\n",
       "</div>"
      ],
      "text/plain": [
       "  census_var                                       census_label dtype\n",
       "0  DP1_0001P           Percent - SEX AND AGE - Total population  REAL\n",
       "1  DP1_0002P  Percent - SEX AND AGE - Total population - Und...  REAL\n",
       "2  DP1_0003P  Percent - SEX AND AGE - Total population - 5 t...  REAL\n",
       "3  DP1_0004P  Percent - SEX AND AGE - Total population - 10 ...  REAL\n",
       "4  DP1_0005P  Percent - SEX AND AGE - Total population - 15 ...  REAL"
      ]
     },
     "execution_count": 18,
     "metadata": {},
     "output_type": "execute_result"
    }
   ],
   "source": [
    "dfexcel.replace({'dtype': {'int': 'INTEGER', 'float': 'REAL'}},inplace=True)\n",
    "dfexcel.census_label.replace({'!!': ' - '},inplace=True, regex=True)\n",
    "dfexcel.head()"
   ]
  },
  {
   "cell_type": "code",
   "execution_count": 19,
   "metadata": {},
   "outputs": [
    {
     "data": {
      "text/plain": [
       "[('DP1_0085P',\n",
       "  ['Percent - TOTAL RACES TALLIED [1] - Total races tallied', 'REAL']),\n",
       " ('DP1_0132P', ['Percent - HOUSEHOLDS BY TYPE - Total households', 'REAL'])]"
      ]
     },
     "execution_count": 19,
     "metadata": {},
     "output_type": "execute_result"
    }
   ],
   "source": [
    "vardict=dfexcel.set_index('census_var').T.to_dict('list')\n",
    "random.sample(list(vardict.items()), 2)"
   ]
  },
  {
   "cell_type": "code",
   "execution_count": 20,
   "metadata": {},
   "outputs": [],
   "source": [
    "con = sqlite3.connect(dbname) \n",
    "cur = con.cursor()"
   ]
  },
  {
   "cell_type": "code",
   "execution_count": 21,
   "metadata": {},
   "outputs": [
    {
     "name": "stdout",
     "output_type": "stream",
     "text": [
      "\n",
      "CREATE TABLE zctas_census2020_pct (\n",
      "GEOIDLONG TEXT NOT NULL PRIMARY KEY,\n",
      "GEOIDSHORT TEXT,\n",
      "GEOLABEL TEXT,\n",
      "DP1_0001P REAL, \n",
      "DP1_0002P REAL, \n",
      "DP1_0003P REAL, \n",
      "DP1_0004P REAL, \n",
      "DP1_0005P REAL, \n",
      "DP1_0006P REAL, \n",
      "DP1_0007P REAL, \n",
      "DP1_0008P REAL, \n",
      "DP1_0009P REAL, \n",
      "DP1_0010P REAL, \n",
      "DP1_0011P REAL, \n",
      "DP1_0012P REAL, \n",
      "DP1_0013P REAL, \n",
      "DP1_0014P REAL, \n",
      "DP1_0015P REAL, \n",
      "DP1_0016P REAL, \n",
      "DP1_0017P REAL, \n",
      "DP1_0018P REAL, \n",
      "DP1_0019P REAL, \n",
      "DP1_0020P REAL, \n",
      "DP1_0021P REAL, \n",
      "DP1_0022P REAL, \n",
      "DP1_0023P REAL, \n",
      "DP1_0024P REAL, \n",
      "DP1_0025P REAL, \n",
      "DP1_0026P REAL, \n",
      "DP1_0027P REAL, \n",
      "DP1_0028P REAL, \n",
      "DP1_0029P REAL, \n",
      "DP1_0030P REAL, \n",
      "DP1_0031P REAL, \n",
      "DP1_0032P REAL, \n",
      "DP1_0033P REAL, \n",
      "DP1_0034P REAL, \n",
      "DP1_0035P REAL, \n",
      "DP1_0036P REAL, \n",
      "DP1_0037P REAL, \n",
      "DP1_0038P REAL, \n",
      "DP1_0039P REAL, \n",
      "DP1_0040P REAL, \n",
      "DP1_0041P REAL, \n",
      "DP1_0042P REAL, \n",
      "DP1_0043P REAL, \n",
      "DP1_0044P REAL, \n",
      "DP1_0045P REAL, \n",
      "DP1_0046P REAL, \n",
      "DP1_0047P REAL, \n",
      "DP1_0048P REAL, \n",
      "DP1_0049P REAL, \n",
      "DP1_0050P REAL, \n",
      "DP1_0051P REAL, \n",
      "DP1_0052P REAL, \n",
      "DP1_0053P REAL, \n",
      "DP1_0054P REAL, \n",
      "DP1_0055P REAL, \n",
      "DP1_0056P REAL, \n",
      "DP1_0057P REAL, \n",
      "DP1_0058P REAL, \n",
      "DP1_0059P REAL, \n",
      "DP1_0060P REAL, \n",
      "DP1_0061P REAL, \n",
      "DP1_0062P REAL, \n",
      "DP1_0063P REAL, \n",
      "DP1_0064P REAL, \n",
      "DP1_0065P REAL, \n",
      "DP1_0066P REAL, \n",
      "DP1_0067P REAL, \n",
      "DP1_0068P REAL, \n",
      "DP1_0069P REAL, \n",
      "DP1_0070P REAL, \n",
      "DP1_0071P REAL, \n",
      "DP1_0072P REAL, \n",
      "DP1_0073P INTEGER, \n",
      "DP1_0074P INTEGER, \n",
      "DP1_0075P INTEGER, \n",
      "DP1_0076P REAL, \n",
      "DP1_0077P REAL, \n",
      "DP1_0078P REAL, \n",
      "DP1_0079P REAL, \n",
      "DP1_0080P REAL, \n",
      "DP1_0081P REAL, \n",
      "DP1_0082P REAL, \n",
      "DP1_0083P REAL, \n",
      "DP1_0084P REAL, \n",
      "DP1_0085P REAL, \n",
      "DP1_0086P REAL, \n",
      "DP1_0087P REAL, \n",
      "DP1_0088P REAL, \n",
      "DP1_0089P REAL, \n",
      "DP1_0090P REAL, \n",
      "DP1_0091P REAL, \n",
      "DP1_0092P REAL, \n",
      "DP1_0093P REAL, \n",
      "DP1_0094P REAL, \n",
      "DP1_0095P REAL, \n",
      "DP1_0096P REAL, \n",
      "DP1_0097P REAL, \n",
      "DP1_0098P REAL, \n",
      "DP1_0099P REAL, \n",
      "DP1_0100P REAL, \n",
      "DP1_0101P REAL, \n",
      "DP1_0102P REAL, \n",
      "DP1_0103P REAL, \n",
      "DP1_0104P REAL, \n",
      "DP1_0105P REAL, \n",
      "DP1_0106P REAL, \n",
      "DP1_0107P REAL, \n",
      "DP1_0108P REAL, \n",
      "DP1_0109P REAL, \n",
      "DP1_0110P REAL, \n",
      "DP1_0111P REAL, \n",
      "DP1_0112P REAL, \n",
      "DP1_0113P REAL, \n",
      "DP1_0114P REAL, \n",
      "DP1_0115P REAL, \n",
      "DP1_0116P REAL, \n",
      "DP1_0117P REAL, \n",
      "DP1_0118P REAL, \n",
      "DP1_0119P REAL, \n",
      "DP1_0120P REAL, \n",
      "DP1_0121P REAL, \n",
      "DP1_0122P REAL, \n",
      "DP1_0123P REAL, \n",
      "DP1_0124P REAL, \n",
      "DP1_0125P REAL, \n",
      "DP1_0126P REAL, \n",
      "DP1_0127P REAL, \n",
      "DP1_0128P REAL, \n",
      "DP1_0129P REAL, \n",
      "DP1_0130P REAL, \n",
      "DP1_0131P REAL, \n",
      "DP1_0132P REAL, \n",
      "DP1_0133P REAL, \n",
      "DP1_0134P REAL, \n",
      "DP1_0135P REAL, \n",
      "DP1_0136P REAL, \n",
      "DP1_0137P REAL, \n",
      "DP1_0138P REAL, \n",
      "DP1_0139P REAL, \n",
      "DP1_0140P REAL, \n",
      "DP1_0141P REAL, \n",
      "DP1_0142P REAL, \n",
      "DP1_0143P REAL, \n",
      "DP1_0144P REAL, \n",
      "DP1_0145P REAL, \n",
      "DP1_0146P REAL, \n",
      "DP1_0147P REAL, \n",
      "DP1_0148P REAL, \n",
      "DP1_0149P REAL, \n",
      "DP1_0150P REAL, \n",
      "DP1_0151P REAL, \n",
      "DP1_0152P REAL, \n",
      "DP1_0153P REAL, \n",
      "DP1_0154P REAL, \n",
      "DP1_0155P REAL, \n",
      "DP1_0156P INTEGER, \n",
      "DP1_0157P INTEGER, \n",
      "DP1_0158P REAL, \n",
      "DP1_0159P REAL, \n",
      "DP1_0160P REAL);\n"
     ]
    }
   ],
   "source": [
    "cur.execute('DROP TABLE IF EXISTS {}'.format(tabname))\n",
    "dbstring=\"\"\"\n",
    "CREATE TABLE {} (\n",
    "GEOIDLONG TEXT NOT NULL PRIMARY KEY,\n",
    "GEOIDSHORT TEXT,\n",
    "GEOLABEL TEXT,\n",
    "\"\"\".format(tabname)\n",
    "\n",
    "for k,v in vardict.items():\n",
    "    dbstring=dbstring+k+' '+v[1]+', \\n'\n",
    "    \n",
    "dbstring=dbstring[:-3]\n",
    "dbstring=dbstring+');'\n",
    "print(dbstring)"
   ]
  },
  {
   "cell_type": "code",
   "execution_count": 22,
   "metadata": {},
   "outputs": [
    {
     "data": {
      "text/plain": [
       "<sqlite3.Cursor at 0x151e4d8bb20>"
      ]
     },
     "execution_count": 22,
     "metadata": {},
     "output_type": "execute_result"
    }
   ],
   "source": [
    "cur.execute(dbstring)"
   ]
  },
  {
   "cell_type": "code",
   "execution_count": 23,
   "metadata": {},
   "outputs": [],
   "source": [
    "censusdata.to_sql(name=tabname, if_exists='append', index=True, con=con)"
   ]
  },
  {
   "cell_type": "code",
   "execution_count": 24,
   "metadata": {},
   "outputs": [
    {
     "name": "stdout",
     "output_type": "stream",
     "text": [
      "81 records written to zctas_census2020_pct\n"
     ]
    }
   ],
   "source": [
    "cur.execute('SELECT COUNT(*) FROM {};'.format(tabname))\n",
    "rows = cur.fetchone()\n",
    "print(rows[0], 'records written to', tabname)"
   ]
  },
  {
   "cell_type": "code",
   "execution_count": 25,
   "metadata": {},
   "outputs": [
    {
     "name": "stdout",
     "output_type": "stream",
     "text": [
      "163 columns written to zctas_census2020_pct\n"
     ]
    }
   ],
   "source": [
    "cur.execute('SELECT * FROM {} LIMIT 1;'.format(tabname))\n",
    "col_names = [cn[0] for cn in cur.description]\n",
    "print(len(col_names), 'columns written to', tabname)\n",
    "#Number should be same as number in df acsdata plus 1, since index not included in df count"
   ]
  },
  {
   "cell_type": "code",
   "execution_count": 26,
   "metadata": {},
   "outputs": [],
   "source": [
    "con.close()"
   ]
  },
  {
   "cell_type": "markdown",
   "metadata": {},
   "source": [
    "## Metadata Table\n",
    "DO NOT RERUN THIS SECTION FOR MULTIPLE GEOGRAPHIES. In the RI Geodatabase there is only one metadata table per census table series (one for plrd, one for profile) for all geographies. For whichever geography is processed first, set action variable to 'create' and run this entire series of blocks for the table. If there was a second table, set the action variable to 'append' and skip the table creation and identifier insertion blocks."
   ]
  },
  {
   "cell_type": "code",
   "execution_count": null,
   "metadata": {},
   "outputs": [],
   "source": [
    "#Change table name and specify an action - you're creating the table for the first time with acs1 variables, \n",
    "#or appending the tables with acs2 variables\n",
    "\n",
    "metatab='census2020_lookup'\n",
    "action='' # 'create' or 'append'"
   ]
  },
  {
   "cell_type": "code",
   "execution_count": null,
   "metadata": {},
   "outputs": [],
   "source": [
    "con = sqlite3.connect(dbname) \n",
    "cur = con.cursor()"
   ]
  },
  {
   "cell_type": "code",
   "execution_count": null,
   "metadata": {},
   "outputs": [],
   "source": [
    "#Only run this block when creating initial table\n",
    "if action=='create':\n",
    "    mdstring=\"\"\"\n",
    "    CREATE TABLE {} (\n",
    "    var_id TEXT,\n",
    "    var_value TEXT);\n",
    "    \"\"\".format(metatab)\n",
    "    cur.execute(mdstring)\n",
    "else:\n",
    "    print('Block not executed because \"create\" not selected as an action in earlier block')"
   ]
  },
  {
   "cell_type": "code",
   "execution_count": null,
   "metadata": {},
   "outputs": [],
   "source": [
    "#Only run this block when creating initial table\n",
    "if action=='create':\n",
    "    exstring=\"\"\"\n",
    "        INSERT INTO {} VALUES('GEOIDLONG','Id');\n",
    "        INSERT INTO {} VALUES('GEOIDSHORT','Id2');\n",
    "        INSERT INTO {} VALUES('GEOLABEL','Geography');\n",
    "        \"\"\".format(metatab,metatab,metatab,metatab)\n",
    "    cur.executescript(exstring)\n",
    "    con.commit()\n",
    "else:\n",
    "    print('Block not executed because \"create\" not selected as an action in earlier block')"
   ]
  },
  {
   "cell_type": "code",
   "execution_count": null,
   "metadata": {},
   "outputs": [],
   "source": [
    "#Run when creating table or when appending records\n",
    "#Keys and values - db ids and labels\n",
    "if action in ('create','append'):\n",
    "    for mk, mv in vardict.items():\n",
    "        cur.execute(\"INSERT INTO {} values(?,?)\".format(metatab),(mk,mv[0]))\n",
    "    con.commit()\n",
    "else:\n",
    "    print('Block not executed because action not specified in earlier block')"
   ]
  },
  {
   "cell_type": "code",
   "execution_count": null,
   "metadata": {},
   "outputs": [],
   "source": [
    "cur.execute('SELECT COUNT(*) FROM {};'.format(metatab))\n",
    "rows = cur.fetchone()\n",
    "print(rows[0], 'records in', metatab)"
   ]
  },
  {
   "cell_type": "code",
   "execution_count": null,
   "metadata": {},
   "outputs": [],
   "source": [
    "action=''\n",
    "con.close()"
   ]
  },
  {
   "cell_type": "code",
   "execution_count": null,
   "metadata": {},
   "outputs": [],
   "source": []
  }
 ],
 "metadata": {
  "kernelspec": {
   "display_name": "Python 3 (ipykernel)",
   "language": "python",
   "name": "python3"
  },
  "language_info": {
   "codemirror_mode": {
    "name": "ipython",
    "version": 3
   },
   "file_extension": ".py",
   "mimetype": "text/x-python",
   "name": "python",
   "nbconvert_exporter": "python",
   "pygments_lexer": "ipython3",
   "version": "3.9.17"
  }
 },
 "nbformat": 4,
 "nbformat_minor": 2
}
