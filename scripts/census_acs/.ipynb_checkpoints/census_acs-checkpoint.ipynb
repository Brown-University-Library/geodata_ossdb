{
 "cells": [
  {
   "cell_type": "markdown",
   "metadata": {},
   "source": [
    "# Census ACS\n",
    "\n",
    "Retrieves data from the Census Bureau's American Community Survey 5-year series API for zctas, county subdivisions, and tracts. A specific list of census variables is passed into the script, which are retrieved from the four ACS profile tables. Variables must be retrieved in chunks because only 50 can be passed to the API at a time, and each url varies by geography and retreives them in different combinations. After some processing output is written to a SQLite database. An option to create a metadata table appears at the bottom, but should only be run once for a given extract (socialecon and pophousing) and not for each individual geography.\n",
    "\n",
    "https://www.census.gov/data/developers/data-sets/acs-5year.html"
   ]
  },
  {
   "cell_type": "markdown",
   "metadata": {},
   "source": [
    "## Variables"
   ]
  },
  {
   "cell_type": "code",
   "execution_count": 1,
   "metadata": {},
   "outputs": [],
   "source": [
    "import os, requests, json, sqlite3, random, pandas as pd, numpy as np\n",
    "from IPython.display import clear_output"
   ]
  },
  {
   "cell_type": "code",
   "execution_count": 2,
   "metadata": {},
   "outputs": [],
   "source": [
    "keyfile='census_key.txt'\n",
    "\n",
    "#API variables - UPDATE THE YEAR AND GEO\n",
    "year='2022'\n",
    "geo='zip code tabulation area' # 'zip code tabulation area' or 'county subdivision' or 'tract'\n",
    "state='44'\n",
    "dsource='acs'\n",
    "dsource2='acs5' # 5-year ACS\n",
    "dname='profile' # data profile tables\n",
    "\n",
    "#Variables to read in from spreadsheet - UPDATE WORKSHEET\n",
    "worksheet='pophousing' # 'socialecon' or 'pophousing'\n",
    "geoexcelsheet={'zip code tabulation area':'zctas', 'county subdivision':'county_subdivs', 'tract':'tracts'}\n",
    "geotype=geoexcelsheet.get(geo)\n",
    "\n",
    "#SQL output\n",
    "tabname='{}_acs{}_{}'.format(geotype,year,worksheet)\n",
    "dbname=os.path.join('outputs','testdb.sqlite')\n",
    "\n",
    "#Dump files for api data storage\n",
    "jsonpath=os.path.join('outputs', tabname+'_retrieved_data.json')"
   ]
  },
  {
   "cell_type": "markdown",
   "metadata": {},
   "source": [
    "## Variable Lists\n",
    "Get full list of variables from the API, read in our retrieval list, and compare the varianle IDs and names to make sure nothing is missing and that nothing has changed since the last iteration. *Don't move on to the next block until both lists match.* Lastly, read in list of geographies."
   ]
  },
  {
   "cell_type": "code",
   "execution_count": 3,
   "metadata": {},
   "outputs": [
    {
     "data": {
      "text/plain": [
       "[('DP02_0011PE',\n",
       "  {'label': 'Percent!!HOUSEHOLDS BY TYPE!!Total households!!Female householder, no spouse/partner present!!With children of the householder under 18 years',\n",
       "   'concept': 'Selected Social Characteristics in the United States',\n",
       "   'predicateType': 'float',\n",
       "   'group': 'DP02',\n",
       "   'limit': 0,\n",
       "   'predicateOnly': True}),\n",
       " ('DP02_0083EA',\n",
       "  {'label': 'Annotation of Estimate!!RESIDENCE 1 YEAR AGO!!Population 1 year and over!!Different house (in the U.S. or abroad)!!Different house in the U.S.!!Same county',\n",
       "   'concept': 'Selected Social Characteristics in the United States',\n",
       "   'predicateType': 'string',\n",
       "   'group': 'DP02',\n",
       "   'limit': 0,\n",
       "   'predicateOnly': True})]"
      ]
     },
     "execution_count": 3,
     "metadata": {},
     "output_type": "execute_result"
    }
   ],
   "source": [
    "datadict={}\n",
    "dps=['DP02','DP03','DP04','DP05']\n",
    "for p in dps:\n",
    "    vars_url = f'https://api.census.gov/data/{year}/{dsource}/{dsource2}/{dname}/groups/{p}.json'\n",
    "    response=requests.get(vars_url)\n",
    "    var_data=response.json()\n",
    "    datadict.update(var_data['variables'])\n",
    "random.sample(list(datadict.items()), 2)"
   ]
  },
  {
   "cell_type": "code",
   "execution_count": 4,
   "metadata": {},
   "outputs": [
    {
     "data": {
      "text/html": [
       "<div>\n",
       "<style scoped>\n",
       "    .dataframe tbody tr th:only-of-type {\n",
       "        vertical-align: middle;\n",
       "    }\n",
       "\n",
       "    .dataframe tbody tr th {\n",
       "        vertical-align: top;\n",
       "    }\n",
       "\n",
       "    .dataframe thead th {\n",
       "        text-align: right;\n",
       "    }\n",
       "</style>\n",
       "<table border=\"1\" class=\"dataframe\">\n",
       "  <thead>\n",
       "    <tr style=\"text-align: right;\">\n",
       "      <th></th>\n",
       "      <th>db_var</th>\n",
       "      <th>census_var</th>\n",
       "      <th>census_label</th>\n",
       "      <th>dtype</th>\n",
       "    </tr>\n",
       "  </thead>\n",
       "  <tbody>\n",
       "    <tr>\n",
       "      <th>0</th>\n",
       "      <td>HOC01_E</td>\n",
       "      <td>DP04_0001E</td>\n",
       "      <td>Estimate!!HOUSING OCCUPANCY!!Total housing units</td>\n",
       "      <td>int</td>\n",
       "    </tr>\n",
       "    <tr>\n",
       "      <th>1</th>\n",
       "      <td>HOC01_M</td>\n",
       "      <td>DP04_0001M</td>\n",
       "      <td>Margin of Error!!HOUSING OCCUPANCY!!Total hous...</td>\n",
       "      <td>int</td>\n",
       "    </tr>\n",
       "    <tr>\n",
       "      <th>2</th>\n",
       "      <td>HOC01_PE</td>\n",
       "      <td>DP04_0001PE</td>\n",
       "      <td>Percent!!HOUSING OCCUPANCY!!Total housing units</td>\n",
       "      <td>int</td>\n",
       "    </tr>\n",
       "    <tr>\n",
       "      <th>3</th>\n",
       "      <td>HOC01_PM</td>\n",
       "      <td>DP04_0001PM</td>\n",
       "      <td>Percent Margin of Error!!HOUSING OCCUPANCY!!To...</td>\n",
       "      <td>int</td>\n",
       "    </tr>\n",
       "    <tr>\n",
       "      <th>4</th>\n",
       "      <td>HOC02_E</td>\n",
       "      <td>DP04_0002E</td>\n",
       "      <td>Estimate!!HOUSING OCCUPANCY!!Total housing uni...</td>\n",
       "      <td>int</td>\n",
       "    </tr>\n",
       "  </tbody>\n",
       "</table>\n",
       "</div>"
      ],
      "text/plain": [
       "     db_var   census_var                                       census_label  \\\n",
       "0   HOC01_E   DP04_0001E   Estimate!!HOUSING OCCUPANCY!!Total housing units   \n",
       "1   HOC01_M   DP04_0001M  Margin of Error!!HOUSING OCCUPANCY!!Total hous...   \n",
       "2  HOC01_PE  DP04_0001PE    Percent!!HOUSING OCCUPANCY!!Total housing units   \n",
       "3  HOC01_PM  DP04_0001PM  Percent Margin of Error!!HOUSING OCCUPANCY!!To...   \n",
       "4   HOC02_E   DP04_0002E  Estimate!!HOUSING OCCUPANCY!!Total housing uni...   \n",
       "\n",
       "  dtype  \n",
       "0   int  \n",
       "1   int  \n",
       "2   int  \n",
       "3   int  \n",
       "4   int  "
      ]
     },
     "execution_count": 4,
     "metadata": {},
     "output_type": "execute_result"
    }
   ],
   "source": [
    "dfexcel = pd.read_excel(os.path.join('inputs','acs_variables.xlsx'),sheet_name=worksheet)\n",
    "dfexcel.head()"
   ]
  },
  {
   "cell_type": "code",
   "execution_count": 5,
   "metadata": {},
   "outputs": [
    {
     "name": "stdout",
     "output_type": "stream",
     "text": [
      "There are an equal number of variables in both lists: 156\n"
     ]
    }
   ],
   "source": [
    "dfvars = pd.DataFrame.from_dict(datadict,columns=['label'],orient='index')\n",
    "dfvars_selected=dfvars.loc[dfvars.index.isin(dfexcel['census_var'])]\n",
    "dfvars_count=len(dfvars_selected)\n",
    "dfexcel_count=len(dfexcel['census_var'])\n",
    "\n",
    "if dfvars_count==dfexcel_count:\n",
    "    print('There are an equal number of variables in both lists:', dfvars_count)\n",
    "else:\n",
    "    print('There is a mismatch in the number of variables; the api has,', dfvars_count, \n",
    "          'while the original list has',dfexcel_count,'. Missing:')\n",
    "    nomatch=dfexcel[~dfexcel['census_var'].isin(dfvars_selected.index)]\n",
    "    print(nomatch)"
   ]
  },
  {
   "cell_type": "code",
   "execution_count": 6,
   "metadata": {},
   "outputs": [
    {
     "name": "stdout",
     "output_type": "stream",
     "text": [
      "All labels match\n"
     ]
    }
   ],
   "source": [
    "mismatch=dfexcel[~dfexcel['census_label'].isin(dfvars_selected['label'])]\n",
    "\n",
    "if len (mismatch) ==0:\n",
    "    print('All labels match')\n",
    "else:\n",
    "    compare=pd.merge(mismatch,dfvars_selected, left_on='census_var', right_on=dfvars_selected.index)\n",
    "    misfile=os.path.join('outputs','{}_mismatch.csv'.format(worksheet))\n",
    "    compare.to_csv(misfile, columns=['db_var', 'census_var', 'census_label', 'label'],sep=',', index=False,\n",
    "    header=['db_var','census_var' ,'oldlabel','newlabel'])\n",
    "    print('* Mismatch file printed to outputs folder * \\n')\n",
    "    print('These labels do not match:')\n",
    "    print(compare[['census_var','census_label','label']])"
   ]
  },
  {
   "cell_type": "code",
   "execution_count": 7,
   "metadata": {},
   "outputs": [
    {
     "name": "stdout",
     "output_type": "stream",
     "text": [
      "Number of geographic indetifiers: 81\n"
     ]
    }
   ],
   "source": [
    "# Geographic indetifiers: zctas to retrieve, pumas to filter by, and counties containing tracts to retrieve\n",
    "excelgeo = pd.read_excel(os.path.join('inputs','acs_variables.xlsx'),sheet_name=geotype, dtype=object)\n",
    "geoids = excelgeo['GEO'].tolist()\n",
    "print('Number of geographic indetifiers:',len(geoids))"
   ]
  },
  {
   "cell_type": "markdown",
   "metadata": {},
   "source": [
    "## Retrieve Data\n",
    "Given the large number of variables in the ACS and limits of the API, variables must be passed to the url in separate blocks or chunks. The first chunk that's captured is written to an empty datalist; the header row and then one row for each geography. Each subsequent chunk is iterated through by row, so each row is appended to the correct row in datalist. In all cases, the last values, identifiers automatically returned with each API call, are not appended."
   ]
  },
  {
   "cell_type": "code",
   "execution_count": 8,
   "metadata": {},
   "outputs": [],
   "source": [
    "def chunks(l, n):\n",
    "    # For item i in a range that is a length of l,\n",
    "    for i in range(0, len(l), n):\n",
    "        # Create an index range for l of n items:\n",
    "        yield l[i:i+n]"
   ]
  },
  {
   "cell_type": "code",
   "execution_count": 9,
   "metadata": {},
   "outputs": [
    {
     "name": "stdout",
     "output_type": "stream",
     "text": [
      "Number of chunks: 4\n"
     ]
    }
   ],
   "source": [
    "reqvars=list(chunks(dfvars_selected.index.tolist(),46))\n",
    "reqvars[0].insert(0,'NAME')\n",
    "reqvars[0].insert(0,'GEO_ID')\n",
    "print('Number of chunks:',len(reqvars))"
   ]
  },
  {
   "cell_type": "code",
   "execution_count": 10,
   "metadata": {},
   "outputs": [
    {
     "data": {
      "text/plain": [
       "'https://api.census.gov/data/2022/acs/acs5/profile'"
      ]
     },
     "execution_count": 10,
     "metadata": {},
     "output_type": "execute_result"
    }
   ],
   "source": [
    "with open(keyfile) as key:\n",
    "    api_key=key.read().strip()\n",
    "\n",
    "base_url = f'https://api.census.gov/data/{year}/{dsource}/{dsource2}/{dname}'\n",
    "base_url"
   ]
  },
  {
   "cell_type": "code",
   "execution_count": 11,
   "metadata": {},
   "outputs": [],
   "source": [
    "#Function for retrieving data; running this block loads it into memory\n",
    "#Different geographies have different urls, \n",
    "#and a different number of identifiers tacked on to the end of each request\n",
    "\n",
    "def getdata():\n",
    "    dlist=[]\n",
    "    for i, v in enumerate(reqvars):\n",
    "        batchcols=','.join(v)\n",
    "        if geotype=='zctas':\n",
    "            data_url = f'{base_url}?get={batchcols}&for={geo}:{g}&key={api_key}'\n",
    "            dropvar=-1\n",
    "        elif geotype=='county_subdivs':\n",
    "            data_url = f'{base_url}?get={batchcols}&for={geo}:*&in=state:{state}&in=county:{county}&key={api_key}'\n",
    "            dropvar=-3\n",
    "        elif geotype=='tracts':\n",
    "            data_url = f'{base_url}?get={batchcols}&for={geo}:*&in=state:{state}&in=county:{county}&key={api_key}'\n",
    "            dropvar=-3\n",
    "        else:\n",
    "            print('Appropriate geography not specified in variables block')\n",
    "            break  \n",
    "        response=requests.get(data_url)\n",
    "        if response.status_code==200:\n",
    "            clear_output(wait=True)\n",
    "            data=response.json()\n",
    "            for i2, v2 in enumerate(data):\n",
    "                if i == 0:\n",
    "                    dlist.append(v2[:dropvar])\n",
    "                else:\n",
    "                    for item in v2[:dropvar]:\n",
    "                        dlist[i2].append(item)\n",
    "        else:\n",
    "            print('***Problem with retrieval***, response code',response.status_code)\n",
    "    return dlist"
   ]
  },
  {
   "cell_type": "markdown",
   "metadata": {},
   "source": [
    "##### ***THIS BLOCK IS A REQUESTS BLOCK!***\n",
    "*NOTE: ZCTA retrieval takes a long time - 5 mins for 80 ZCTAs*"
   ]
  },
  {
   "cell_type": "code",
   "execution_count": 12,
   "metadata": {},
   "outputs": [
    {
     "name": "stdout",
     "output_type": "stream",
     "text": [
      "Retrieved data for 02921\n",
      "Retrieved 82 records and 12956 data points with 158.0 points for each record...\n",
      "Done - Data dumped to json file\n"
     ]
    }
   ],
   "source": [
    "#If this block was run successfully for a given table and geography don't rerun - next block pulls from saved json\n",
    "datalist=[]\n",
    "if geotype=='zctas':\n",
    "    for g in geoids:\n",
    "        georecord=getdata()\n",
    "        print('Retrieved data for',g)\n",
    "        if len(datalist)==0:\n",
    "            datalist.append(georecord[0])\n",
    "            datalist.append(georecord[1])\n",
    "        else:\n",
    "            datalist.append(georecord[1])\n",
    "else:\n",
    "    for county in geoids:\n",
    "        georecord=getdata()\n",
    "        print('Retrieved data for',county)\n",
    "        if len(datalist)==0:\n",
    "            for geog in georecord:\n",
    "                datalist.append(geog)\n",
    "        else:\n",
    "            for geog in georecord[1:]:\n",
    "                datalist.append(geog)\n",
    "    \n",
    "dlrows=len(datalist)\n",
    "dlitems=sum(len(x) for x in datalist)\n",
    "dlbyrow=dlitems / dlrows\n",
    "print('Retrieved', dlrows, 'records and', dlitems,'data points with', dlbyrow, 'points for each record...')\n",
    "        \n",
    "with open(jsonpath, 'w') as f:\n",
    "    json.dump(datalist, f)\n",
    "print('Done - Data dumped to json file')"
   ]
  },
  {
   "cell_type": "markdown",
   "metadata": {},
   "source": [
    "## Process Data\n",
    "Replace footnotes with nulls, create a new GEOID2 column, replace census variable names with database variable names."
   ]
  },
  {
   "cell_type": "code",
   "execution_count": 13,
   "metadata": {},
   "outputs": [
    {
     "name": "stdout",
     "output_type": "stream",
     "text": [
      "<class 'pandas.core.frame.DataFrame'>\n",
      "Index: 81 entries, 860Z200US02802 to 860Z200US02921\n",
      "Columns: 157 entries, GEOLABEL to DP05_0089PM\n",
      "dtypes: object(157)\n",
      "memory usage: 100.0+ KB\n"
     ]
    }
   ],
   "source": [
    "with open(jsonpath, 'r') as f:\n",
    "    jsondata=json.load(f)\n",
    "alldata = pd.DataFrame(jsondata[1:],columns=jsondata[0],dtype=object).rename(columns={\n",
    "    'GEO_ID':'GEOIDLONG','NAME':'GEOLABEL'}).set_index('GEOIDLONG')\n",
    "alldata.info()\n",
    "# Index and column entries should be 1 row and 1 column less than previous count (excludes header row and index column) "
   ]
  },
  {
   "cell_type": "code",
   "execution_count": 14,
   "metadata": {},
   "outputs": [
    {
     "data": {
      "text/html": [
       "<div>\n",
       "<style scoped>\n",
       "    .dataframe tbody tr th:only-of-type {\n",
       "        vertical-align: middle;\n",
       "    }\n",
       "\n",
       "    .dataframe tbody tr th {\n",
       "        vertical-align: top;\n",
       "    }\n",
       "\n",
       "    .dataframe thead th {\n",
       "        text-align: right;\n",
       "    }\n",
       "</style>\n",
       "<table border=\"1\" class=\"dataframe\">\n",
       "  <thead>\n",
       "    <tr style=\"text-align: right;\">\n",
       "      <th></th>\n",
       "      <th>GEOLABEL</th>\n",
       "      <th>DP04_0001E</th>\n",
       "      <th>DP04_0001M</th>\n",
       "      <th>DP04_0001PE</th>\n",
       "      <th>DP04_0001PM</th>\n",
       "      <th>DP04_0002E</th>\n",
       "      <th>DP04_0002M</th>\n",
       "      <th>DP04_0002PE</th>\n",
       "      <th>DP04_0002PM</th>\n",
       "      <th>DP04_0003E</th>\n",
       "      <th>...</th>\n",
       "      <th>DP05_0084PE</th>\n",
       "      <th>DP05_0084PM</th>\n",
       "      <th>DP05_0085E</th>\n",
       "      <th>DP05_0085M</th>\n",
       "      <th>DP05_0085PE</th>\n",
       "      <th>DP05_0085PM</th>\n",
       "      <th>DP05_0089E</th>\n",
       "      <th>DP05_0089M</th>\n",
       "      <th>DP05_0089PE</th>\n",
       "      <th>DP05_0089PM</th>\n",
       "    </tr>\n",
       "    <tr>\n",
       "      <th>GEOIDLONG</th>\n",
       "      <th></th>\n",
       "      <th></th>\n",
       "      <th></th>\n",
       "      <th></th>\n",
       "      <th></th>\n",
       "      <th></th>\n",
       "      <th></th>\n",
       "      <th></th>\n",
       "      <th></th>\n",
       "      <th></th>\n",
       "      <th></th>\n",
       "      <th></th>\n",
       "      <th></th>\n",
       "      <th></th>\n",
       "      <th></th>\n",
       "      <th></th>\n",
       "      <th></th>\n",
       "      <th></th>\n",
       "      <th></th>\n",
       "      <th></th>\n",
       "      <th></th>\n",
       "    </tr>\n",
       "  </thead>\n",
       "  <tbody>\n",
       "    <tr>\n",
       "      <th>860Z200US02802</th>\n",
       "      <td>ZCTA5 02802</td>\n",
       "      <td>474</td>\n",
       "      <td>189</td>\n",
       "      <td>474</td>\n",
       "      <td>-888888888</td>\n",
       "      <td>348</td>\n",
       "      <td>192</td>\n",
       "      <td>73.4</td>\n",
       "      <td>25.3</td>\n",
       "      <td>126</td>\n",
       "      <td>...</td>\n",
       "      <td>0.0</td>\n",
       "      <td>6.5</td>\n",
       "      <td>0</td>\n",
       "      <td>14</td>\n",
       "      <td>0.0</td>\n",
       "      <td>6.5</td>\n",
       "      <td>683</td>\n",
       "      <td>393</td>\n",
       "      <td>683</td>\n",
       "      <td>-888888888</td>\n",
       "    </tr>\n",
       "    <tr>\n",
       "      <th>860Z200US02804</th>\n",
       "      <td>ZCTA5 02804</td>\n",
       "      <td>1090</td>\n",
       "      <td>234</td>\n",
       "      <td>1090</td>\n",
       "      <td>-888888888</td>\n",
       "      <td>905</td>\n",
       "      <td>223</td>\n",
       "      <td>83.0</td>\n",
       "      <td>9.1</td>\n",
       "      <td>185</td>\n",
       "      <td>...</td>\n",
       "      <td>0.0</td>\n",
       "      <td>1.8</td>\n",
       "      <td>119</td>\n",
       "      <td>142</td>\n",
       "      <td>4.6</td>\n",
       "      <td>5.5</td>\n",
       "      <td>2021</td>\n",
       "      <td>504</td>\n",
       "      <td>2021</td>\n",
       "      <td>-888888888</td>\n",
       "    </tr>\n",
       "    <tr>\n",
       "      <th>860Z200US02806</th>\n",
       "      <td>ZCTA5 02806</td>\n",
       "      <td>6439</td>\n",
       "      <td>269</td>\n",
       "      <td>6439</td>\n",
       "      <td>-888888888</td>\n",
       "      <td>6053</td>\n",
       "      <td>249</td>\n",
       "      <td>94.0</td>\n",
       "      <td>2.0</td>\n",
       "      <td>386</td>\n",
       "      <td>...</td>\n",
       "      <td>0.2</td>\n",
       "      <td>0.3</td>\n",
       "      <td>477</td>\n",
       "      <td>172</td>\n",
       "      <td>2.8</td>\n",
       "      <td>1.0</td>\n",
       "      <td>11916</td>\n",
       "      <td>322</td>\n",
       "      <td>11916</td>\n",
       "      <td>-888888888</td>\n",
       "    </tr>\n",
       "  </tbody>\n",
       "</table>\n",
       "<p>3 rows × 157 columns</p>\n",
       "</div>"
      ],
      "text/plain": [
       "                   GEOLABEL DP04_0001E DP04_0001M DP04_0001PE DP04_0001PM  \\\n",
       "GEOIDLONG                                                                   \n",
       "860Z200US02802  ZCTA5 02802        474        189         474  -888888888   \n",
       "860Z200US02804  ZCTA5 02804       1090        234        1090  -888888888   \n",
       "860Z200US02806  ZCTA5 02806       6439        269        6439  -888888888   \n",
       "\n",
       "               DP04_0002E DP04_0002M DP04_0002PE DP04_0002PM DP04_0003E  ...  \\\n",
       "GEOIDLONG                                                                ...   \n",
       "860Z200US02802        348        192        73.4        25.3        126  ...   \n",
       "860Z200US02804        905        223        83.0         9.1        185  ...   \n",
       "860Z200US02806       6053        249        94.0         2.0        386  ...   \n",
       "\n",
       "               DP05_0084PE DP05_0084PM DP05_0085E DP05_0085M DP05_0085PE  \\\n",
       "GEOIDLONG                                                                  \n",
       "860Z200US02802         0.0         6.5          0         14         0.0   \n",
       "860Z200US02804         0.0         1.8        119        142         4.6   \n",
       "860Z200US02806         0.2         0.3        477        172         2.8   \n",
       "\n",
       "               DP05_0085PM DP05_0089E DP05_0089M DP05_0089PE DP05_0089PM  \n",
       "GEOIDLONG                                                                 \n",
       "860Z200US02802         6.5        683        393         683  -888888888  \n",
       "860Z200US02804         5.5       2021        504        2021  -888888888  \n",
       "860Z200US02806         1.0      11916        322       11916  -888888888  \n",
       "\n",
       "[3 rows x 157 columns]"
      ]
     },
     "execution_count": 14,
     "metadata": {},
     "output_type": "execute_result"
    }
   ],
   "source": [
    "alldata.head(3)"
   ]
  },
  {
   "cell_type": "code",
   "execution_count": 15,
   "metadata": {},
   "outputs": [],
   "source": [
    "#This is a lousy solution, come up with something better in the future\n",
    "footnotes=['-999999999','-999999999.0', '-999999999.00',\n",
    "           '-888888888','-888888888.0', '-888888888.00',\n",
    "           '-666666666','-666666666.0', '-666666666.00',\n",
    "           '-555555555','-555555555.0', '-555555555.00',\n",
    "           '-333333333','-333333333.0', '-333333333.00',\n",
    "           '-222222222','-222222222.0', '-222222222.00']\n",
    "alldata.replace(footnotes,np.nan,inplace=True)"
   ]
  },
  {
   "cell_type": "code",
   "execution_count": 16,
   "metadata": {},
   "outputs": [
    {
     "data": {
      "text/html": [
       "<div>\n",
       "<style scoped>\n",
       "    .dataframe tbody tr th:only-of-type {\n",
       "        vertical-align: middle;\n",
       "    }\n",
       "\n",
       "    .dataframe tbody tr th {\n",
       "        vertical-align: top;\n",
       "    }\n",
       "\n",
       "    .dataframe thead th {\n",
       "        text-align: right;\n",
       "    }\n",
       "</style>\n",
       "<table border=\"1\" class=\"dataframe\">\n",
       "  <thead>\n",
       "    <tr style=\"text-align: right;\">\n",
       "      <th></th>\n",
       "      <th>GEOIDSHORT</th>\n",
       "      <th>GEOLABEL</th>\n",
       "      <th>DP04_0001E</th>\n",
       "      <th>DP04_0001M</th>\n",
       "      <th>DP04_0001PE</th>\n",
       "      <th>DP04_0001PM</th>\n",
       "      <th>DP04_0002E</th>\n",
       "      <th>DP04_0002M</th>\n",
       "      <th>DP04_0002PE</th>\n",
       "      <th>DP04_0002PM</th>\n",
       "      <th>...</th>\n",
       "      <th>DP05_0084PE</th>\n",
       "      <th>DP05_0084PM</th>\n",
       "      <th>DP05_0085E</th>\n",
       "      <th>DP05_0085M</th>\n",
       "      <th>DP05_0085PE</th>\n",
       "      <th>DP05_0085PM</th>\n",
       "      <th>DP05_0089E</th>\n",
       "      <th>DP05_0089M</th>\n",
       "      <th>DP05_0089PE</th>\n",
       "      <th>DP05_0089PM</th>\n",
       "    </tr>\n",
       "    <tr>\n",
       "      <th>GEOIDLONG</th>\n",
       "      <th></th>\n",
       "      <th></th>\n",
       "      <th></th>\n",
       "      <th></th>\n",
       "      <th></th>\n",
       "      <th></th>\n",
       "      <th></th>\n",
       "      <th></th>\n",
       "      <th></th>\n",
       "      <th></th>\n",
       "      <th></th>\n",
       "      <th></th>\n",
       "      <th></th>\n",
       "      <th></th>\n",
       "      <th></th>\n",
       "      <th></th>\n",
       "      <th></th>\n",
       "      <th></th>\n",
       "      <th></th>\n",
       "      <th></th>\n",
       "      <th></th>\n",
       "    </tr>\n",
       "  </thead>\n",
       "  <tbody>\n",
       "    <tr>\n",
       "      <th>860Z200US02802</th>\n",
       "      <td>02802</td>\n",
       "      <td>ZCTA5 02802</td>\n",
       "      <td>474</td>\n",
       "      <td>189</td>\n",
       "      <td>474</td>\n",
       "      <td>NaN</td>\n",
       "      <td>348</td>\n",
       "      <td>192</td>\n",
       "      <td>73.4</td>\n",
       "      <td>25.3</td>\n",
       "      <td>...</td>\n",
       "      <td>0.0</td>\n",
       "      <td>6.5</td>\n",
       "      <td>0</td>\n",
       "      <td>14</td>\n",
       "      <td>0.0</td>\n",
       "      <td>6.5</td>\n",
       "      <td>683</td>\n",
       "      <td>393</td>\n",
       "      <td>683</td>\n",
       "      <td>NaN</td>\n",
       "    </tr>\n",
       "    <tr>\n",
       "      <th>860Z200US02804</th>\n",
       "      <td>02804</td>\n",
       "      <td>ZCTA5 02804</td>\n",
       "      <td>1090</td>\n",
       "      <td>234</td>\n",
       "      <td>1090</td>\n",
       "      <td>NaN</td>\n",
       "      <td>905</td>\n",
       "      <td>223</td>\n",
       "      <td>83.0</td>\n",
       "      <td>9.1</td>\n",
       "      <td>...</td>\n",
       "      <td>0.0</td>\n",
       "      <td>1.8</td>\n",
       "      <td>119</td>\n",
       "      <td>142</td>\n",
       "      <td>4.6</td>\n",
       "      <td>5.5</td>\n",
       "      <td>2021</td>\n",
       "      <td>504</td>\n",
       "      <td>2021</td>\n",
       "      <td>NaN</td>\n",
       "    </tr>\n",
       "    <tr>\n",
       "      <th>860Z200US02806</th>\n",
       "      <td>02806</td>\n",
       "      <td>ZCTA5 02806</td>\n",
       "      <td>6439</td>\n",
       "      <td>269</td>\n",
       "      <td>6439</td>\n",
       "      <td>NaN</td>\n",
       "      <td>6053</td>\n",
       "      <td>249</td>\n",
       "      <td>94.0</td>\n",
       "      <td>2.0</td>\n",
       "      <td>...</td>\n",
       "      <td>0.2</td>\n",
       "      <td>0.3</td>\n",
       "      <td>477</td>\n",
       "      <td>172</td>\n",
       "      <td>2.8</td>\n",
       "      <td>1.0</td>\n",
       "      <td>11916</td>\n",
       "      <td>322</td>\n",
       "      <td>11916</td>\n",
       "      <td>NaN</td>\n",
       "    </tr>\n",
       "  </tbody>\n",
       "</table>\n",
       "<p>3 rows × 158 columns</p>\n",
       "</div>"
      ],
      "text/plain": [
       "               GEOIDSHORT     GEOLABEL DP04_0001E DP04_0001M DP04_0001PE  \\\n",
       "GEOIDLONG                                                                  \n",
       "860Z200US02802      02802  ZCTA5 02802        474        189         474   \n",
       "860Z200US02804      02804  ZCTA5 02804       1090        234        1090   \n",
       "860Z200US02806      02806  ZCTA5 02806       6439        269        6439   \n",
       "\n",
       "                DP04_0001PM DP04_0002E DP04_0002M DP04_0002PE DP04_0002PM  \\\n",
       "GEOIDLONG                                                                   \n",
       "860Z200US02802          NaN        348        192        73.4        25.3   \n",
       "860Z200US02804          NaN        905        223        83.0         9.1   \n",
       "860Z200US02806          NaN       6053        249        94.0         2.0   \n",
       "\n",
       "                ... DP05_0084PE DP05_0084PM DP05_0085E DP05_0085M DP05_0085PE  \\\n",
       "GEOIDLONG       ...                                                             \n",
       "860Z200US02802  ...         0.0         6.5          0         14         0.0   \n",
       "860Z200US02804  ...         0.0         1.8        119        142         4.6   \n",
       "860Z200US02806  ...         0.2         0.3        477        172         2.8   \n",
       "\n",
       "               DP05_0085PM  DP05_0089E  DP05_0089M DP05_0089PE DP05_0089PM  \n",
       "GEOIDLONG                                                                   \n",
       "860Z200US02802         6.5         683         393         683         NaN  \n",
       "860Z200US02804         5.5        2021         504        2021         NaN  \n",
       "860Z200US02806         1.0       11916         322       11916         NaN  \n",
       "\n",
       "[3 rows x 158 columns]"
      ]
     },
     "execution_count": 16,
     "metadata": {},
     "output_type": "execute_result"
    }
   ],
   "source": [
    "idxgeoid2={'zctas':-5, 'county_subdivs':-10,'tracts':-11}\n",
    "alldata.insert(loc=0, column='GEOIDSHORT',value=alldata.index.str[idxgeoid2.get(geotype):])\n",
    "alldata.head(3)"
   ]
  },
  {
   "cell_type": "code",
   "execution_count": 17,
   "metadata": {},
   "outputs": [
    {
     "data": {
      "text/plain": [
       "(81, 158)"
      ]
     },
     "execution_count": 17,
     "metadata": {},
     "output_type": "execute_result"
    }
   ],
   "source": [
    "# For PUMAS filter all the geotype for the state by local areas\n",
    "if geotype == 'pumas':\n",
    "    acsdata=alldata.loc[alldata.GEOID2.isin(geoids)].copy().astype(object).sort_index()\n",
    "else:\n",
    "    acsdata=alldata.copy().astype(object).sort_index()\n",
    "acsdata.shape"
   ]
  },
  {
   "cell_type": "code",
   "execution_count": 18,
   "metadata": {},
   "outputs": [
    {
     "data": {
      "text/plain": [
       "[('DP04_0134PE', 'RENT02_PE'),\n",
       " ('DP05_0002M', 'SXAG02_M'),\n",
       " ('DP05_0081PM', 'HISL06_PM'),\n",
       " ('DP05_0080M', 'HISL05_M'),\n",
       " ('DP05_0078M', 'HISL03_M')]"
      ]
     },
     "execution_count": 18,
     "metadata": {},
     "output_type": "execute_result"
    }
   ],
   "source": [
    "#Dictionary of column names from the census and the geodatabase\n",
    "cv_to_db=dict(zip(dfexcel.census_var, dfexcel.db_var))\n",
    "random.sample(list(cv_to_db.items()), 5)"
   ]
  },
  {
   "cell_type": "code",
   "execution_count": 19,
   "metadata": {},
   "outputs": [
    {
     "data": {
      "text/html": [
       "<div>\n",
       "<style scoped>\n",
       "    .dataframe tbody tr th:only-of-type {\n",
       "        vertical-align: middle;\n",
       "    }\n",
       "\n",
       "    .dataframe tbody tr th {\n",
       "        vertical-align: top;\n",
       "    }\n",
       "\n",
       "    .dataframe thead th {\n",
       "        text-align: right;\n",
       "    }\n",
       "</style>\n",
       "<table border=\"1\" class=\"dataframe\">\n",
       "  <thead>\n",
       "    <tr style=\"text-align: right;\">\n",
       "      <th></th>\n",
       "      <th>GEOIDSHORT</th>\n",
       "      <th>GEOLABEL</th>\n",
       "      <th>HOC01_E</th>\n",
       "      <th>HOC01_M</th>\n",
       "      <th>HOC01_PE</th>\n",
       "      <th>HOC01_PM</th>\n",
       "      <th>HOC02_E</th>\n",
       "      <th>HOC02_M</th>\n",
       "      <th>HOC02_PE</th>\n",
       "      <th>HOC02_PM</th>\n",
       "      <th>...</th>\n",
       "      <th>HISL09_PE</th>\n",
       "      <th>HISL09_PM</th>\n",
       "      <th>HISL10_E</th>\n",
       "      <th>HISL10_M</th>\n",
       "      <th>HISL10_PE</th>\n",
       "      <th>HISL10_PM</th>\n",
       "      <th>VOTE01_E</th>\n",
       "      <th>VOTE01_M</th>\n",
       "      <th>VOTE01_PE</th>\n",
       "      <th>VOTE01_PM</th>\n",
       "    </tr>\n",
       "    <tr>\n",
       "      <th>GEOIDLONG</th>\n",
       "      <th></th>\n",
       "      <th></th>\n",
       "      <th></th>\n",
       "      <th></th>\n",
       "      <th></th>\n",
       "      <th></th>\n",
       "      <th></th>\n",
       "      <th></th>\n",
       "      <th></th>\n",
       "      <th></th>\n",
       "      <th></th>\n",
       "      <th></th>\n",
       "      <th></th>\n",
       "      <th></th>\n",
       "      <th></th>\n",
       "      <th></th>\n",
       "      <th></th>\n",
       "      <th></th>\n",
       "      <th></th>\n",
       "      <th></th>\n",
       "      <th></th>\n",
       "    </tr>\n",
       "  </thead>\n",
       "  <tbody>\n",
       "    <tr>\n",
       "      <th>860Z200US02802</th>\n",
       "      <td>02802</td>\n",
       "      <td>ZCTA5 02802</td>\n",
       "      <td>474</td>\n",
       "      <td>189</td>\n",
       "      <td>474</td>\n",
       "      <td>NaN</td>\n",
       "      <td>348</td>\n",
       "      <td>192</td>\n",
       "      <td>73.4</td>\n",
       "      <td>25.3</td>\n",
       "      <td>...</td>\n",
       "      <td>0.0</td>\n",
       "      <td>6.5</td>\n",
       "      <td>0</td>\n",
       "      <td>14</td>\n",
       "      <td>0.0</td>\n",
       "      <td>6.5</td>\n",
       "      <td>683</td>\n",
       "      <td>393</td>\n",
       "      <td>683</td>\n",
       "      <td>NaN</td>\n",
       "    </tr>\n",
       "    <tr>\n",
       "      <th>860Z200US02804</th>\n",
       "      <td>02804</td>\n",
       "      <td>ZCTA5 02804</td>\n",
       "      <td>1090</td>\n",
       "      <td>234</td>\n",
       "      <td>1090</td>\n",
       "      <td>NaN</td>\n",
       "      <td>905</td>\n",
       "      <td>223</td>\n",
       "      <td>83.0</td>\n",
       "      <td>9.1</td>\n",
       "      <td>...</td>\n",
       "      <td>0.0</td>\n",
       "      <td>1.8</td>\n",
       "      <td>119</td>\n",
       "      <td>142</td>\n",
       "      <td>4.6</td>\n",
       "      <td>5.5</td>\n",
       "      <td>2021</td>\n",
       "      <td>504</td>\n",
       "      <td>2021</td>\n",
       "      <td>NaN</td>\n",
       "    </tr>\n",
       "    <tr>\n",
       "      <th>860Z200US02806</th>\n",
       "      <td>02806</td>\n",
       "      <td>ZCTA5 02806</td>\n",
       "      <td>6439</td>\n",
       "      <td>269</td>\n",
       "      <td>6439</td>\n",
       "      <td>NaN</td>\n",
       "      <td>6053</td>\n",
       "      <td>249</td>\n",
       "      <td>94.0</td>\n",
       "      <td>2.0</td>\n",
       "      <td>...</td>\n",
       "      <td>0.2</td>\n",
       "      <td>0.3</td>\n",
       "      <td>477</td>\n",
       "      <td>172</td>\n",
       "      <td>2.8</td>\n",
       "      <td>1.0</td>\n",
       "      <td>11916</td>\n",
       "      <td>322</td>\n",
       "      <td>11916</td>\n",
       "      <td>NaN</td>\n",
       "    </tr>\n",
       "  </tbody>\n",
       "</table>\n",
       "<p>3 rows × 158 columns</p>\n",
       "</div>"
      ],
      "text/plain": [
       "               GEOIDSHORT     GEOLABEL HOC01_E HOC01_M HOC01_PE HOC01_PM  \\\n",
       "GEOIDLONG                                                                  \n",
       "860Z200US02802      02802  ZCTA5 02802     474     189      474      NaN   \n",
       "860Z200US02804      02804  ZCTA5 02804    1090     234     1090      NaN   \n",
       "860Z200US02806      02806  ZCTA5 02806    6439     269     6439      NaN   \n",
       "\n",
       "               HOC02_E HOC02_M HOC02_PE HOC02_PM  ... HISL09_PE HISL09_PM  \\\n",
       "GEOIDLONG                                         ...                       \n",
       "860Z200US02802     348     192     73.4     25.3  ...       0.0       6.5   \n",
       "860Z200US02804     905     223     83.0      9.1  ...       0.0       1.8   \n",
       "860Z200US02806    6053     249     94.0      2.0  ...       0.2       0.3   \n",
       "\n",
       "               HISL10_E HISL10_M HISL10_PE HISL10_PM VOTE01_E VOTE01_M  \\\n",
       "GEOIDLONG                                                                \n",
       "860Z200US02802        0       14       0.0       6.5      683      393   \n",
       "860Z200US02804      119      142       4.6       5.5     2021      504   \n",
       "860Z200US02806      477      172       2.8       1.0    11916      322   \n",
       "\n",
       "               VOTE01_PE VOTE01_PM  \n",
       "GEOIDLONG                           \n",
       "860Z200US02802       683       NaN  \n",
       "860Z200US02804      2021       NaN  \n",
       "860Z200US02806     11916       NaN  \n",
       "\n",
       "[3 rows x 158 columns]"
      ]
     },
     "execution_count": 19,
     "metadata": {},
     "output_type": "execute_result"
    }
   ],
   "source": [
    "#Rename the census variables to geodatabase variables\n",
    "acsdata.rename(columns=cv_to_db,inplace=True)\n",
    "acsdata.head(3)"
   ]
  },
  {
   "cell_type": "markdown",
   "metadata": {},
   "source": [
    "## Write to Database\n",
    "Update list of variables and data types, build create table string, create datatable in temporary database.\n"
   ]
  },
  {
   "cell_type": "code",
   "execution_count": 20,
   "metadata": {},
   "outputs": [
    {
     "data": {
      "text/html": [
       "<div>\n",
       "<style scoped>\n",
       "    .dataframe tbody tr th:only-of-type {\n",
       "        vertical-align: middle;\n",
       "    }\n",
       "\n",
       "    .dataframe tbody tr th {\n",
       "        vertical-align: top;\n",
       "    }\n",
       "\n",
       "    .dataframe thead th {\n",
       "        text-align: right;\n",
       "    }\n",
       "</style>\n",
       "<table border=\"1\" class=\"dataframe\">\n",
       "  <thead>\n",
       "    <tr style=\"text-align: right;\">\n",
       "      <th></th>\n",
       "      <th>db_var</th>\n",
       "      <th>census_var</th>\n",
       "      <th>census_label</th>\n",
       "      <th>dtype</th>\n",
       "    </tr>\n",
       "  </thead>\n",
       "  <tbody>\n",
       "    <tr>\n",
       "      <th>0</th>\n",
       "      <td>HOC01_E</td>\n",
       "      <td>DP04_0001E</td>\n",
       "      <td>Estimate - HOUSING OCCUPANCY - Total housing u...</td>\n",
       "      <td>INTEGER</td>\n",
       "    </tr>\n",
       "    <tr>\n",
       "      <th>1</th>\n",
       "      <td>HOC01_M</td>\n",
       "      <td>DP04_0001M</td>\n",
       "      <td>Margin of Error - HOUSING OCCUPANCY - Total ho...</td>\n",
       "      <td>INTEGER</td>\n",
       "    </tr>\n",
       "    <tr>\n",
       "      <th>2</th>\n",
       "      <td>HOC01_PE</td>\n",
       "      <td>DP04_0001PE</td>\n",
       "      <td>Percent - HOUSING OCCUPANCY - Total housing units</td>\n",
       "      <td>INTEGER</td>\n",
       "    </tr>\n",
       "    <tr>\n",
       "      <th>3</th>\n",
       "      <td>HOC01_PM</td>\n",
       "      <td>DP04_0001PM</td>\n",
       "      <td>Percent Margin of Error - HOUSING OCCUPANCY - ...</td>\n",
       "      <td>INTEGER</td>\n",
       "    </tr>\n",
       "    <tr>\n",
       "      <th>4</th>\n",
       "      <td>HOC02_E</td>\n",
       "      <td>DP04_0002E</td>\n",
       "      <td>Estimate - HOUSING OCCUPANCY - Total housing u...</td>\n",
       "      <td>INTEGER</td>\n",
       "    </tr>\n",
       "  </tbody>\n",
       "</table>\n",
       "</div>"
      ],
      "text/plain": [
       "     db_var   census_var                                       census_label  \\\n",
       "0   HOC01_E   DP04_0001E  Estimate - HOUSING OCCUPANCY - Total housing u...   \n",
       "1   HOC01_M   DP04_0001M  Margin of Error - HOUSING OCCUPANCY - Total ho...   \n",
       "2  HOC01_PE  DP04_0001PE  Percent - HOUSING OCCUPANCY - Total housing units   \n",
       "3  HOC01_PM  DP04_0001PM  Percent Margin of Error - HOUSING OCCUPANCY - ...   \n",
       "4   HOC02_E   DP04_0002E  Estimate - HOUSING OCCUPANCY - Total housing u...   \n",
       "\n",
       "     dtype  \n",
       "0  INTEGER  \n",
       "1  INTEGER  \n",
       "2  INTEGER  \n",
       "3  INTEGER  \n",
       "4  INTEGER  "
      ]
     },
     "execution_count": 20,
     "metadata": {},
     "output_type": "execute_result"
    }
   ],
   "source": [
    "dfexcel.replace({'dtype': {'int': 'INTEGER', 'float': 'REAL'}},inplace=True)\n",
    "dfexcel.census_label.replace({'!!': ' - '},inplace=True, regex=True)\n",
    "dfexcel.head()"
   ]
  },
  {
   "cell_type": "code",
   "execution_count": 21,
   "metadata": {},
   "outputs": [
    {
     "data": {
      "text/plain": [
       "[('HTEN02_E',\n",
       "  ['DP04_0046E',\n",
       "   'Estimate - HOUSING TENURE - Occupied housing units - Owner-occupied',\n",
       "   'INTEGER']),\n",
       " ('HISL05_PM',\n",
       "  ['DP05_0080PM',\n",
       "   'Percent Margin of Error - HISPANIC OR LATINO AND RACE - Total population - Not Hispanic or Latino - Black or African American alone',\n",
       "   'REAL'])]"
      ]
     },
     "execution_count": 21,
     "metadata": {},
     "output_type": "execute_result"
    }
   ],
   "source": [
    "vardict=dfexcel.set_index('db_var').T.to_dict('list')\n",
    "random.sample(list(vardict.items()), 2)"
   ]
  },
  {
   "cell_type": "code",
   "execution_count": 22,
   "metadata": {},
   "outputs": [],
   "source": [
    "con = sqlite3.connect(dbname) \n",
    "cur = con.cursor()"
   ]
  },
  {
   "cell_type": "code",
   "execution_count": 23,
   "metadata": {},
   "outputs": [
    {
     "name": "stdout",
     "output_type": "stream",
     "text": [
      "\n",
      "CREATE TABLE zctas_acs2022_pophousing (\n",
      "GEOIDLONG TEXT NOT NULL PRIMARY KEY,\n",
      "GEOIDSHORT TEXT,\n",
      "GEOLABEL TEXT,\n",
      "HOC01_E INTEGER, \n",
      "HOC01_M INTEGER, \n",
      "HOC01_PE INTEGER, \n",
      "HOC01_PM INTEGER, \n",
      "HOC02_E INTEGER, \n",
      "HOC02_M INTEGER, \n",
      "HOC02_PE REAL, \n",
      "HOC02_PM REAL, \n",
      "HOC03_E INTEGER, \n",
      "HOC03_M INTEGER, \n",
      "HOC03_PE REAL, \n",
      "HOC03_PM REAL, \n",
      "HOC04_E REAL, \n",
      "HOC04_M REAL, \n",
      "HOC04_PE INTEGER, \n",
      "HOC04_PM INTEGER, \n",
      "HOC05_E REAL, \n",
      "HOC05_M REAL, \n",
      "HOC05_PE INTEGER, \n",
      "HOC05_PM INTEGER, \n",
      "HTEN01_E INTEGER, \n",
      "HTEN01_M INTEGER, \n",
      "HTEN01_PE INTEGER, \n",
      "HTEN01_PM INTEGER, \n",
      "HTEN02_E INTEGER, \n",
      "HTEN02_M INTEGER, \n",
      "HTEN02_PE REAL, \n",
      "HTEN02_PM REAL, \n",
      "HTEN03_E INTEGER, \n",
      "HTEN03_M INTEGER, \n",
      "HTEN03_PE REAL, \n",
      "HTEN03_PM REAL, \n",
      "HVAL01_E INTEGER, \n",
      "HVAL01_M INTEGER, \n",
      "HVAL01_PE INTEGER, \n",
      "HVAL01_PM INTEGER, \n",
      "HVAL02_E INTEGER, \n",
      "HVAL02_M INTEGER, \n",
      "HVAL02_PE INTEGER, \n",
      "HVAL02_PM INTEGER, \n",
      "RENT01_E INTEGER, \n",
      "RENT01_M INTEGER, \n",
      "RENT01_PE INTEGER, \n",
      "RENT01_PM INTEGER, \n",
      "RENT02_E INTEGER, \n",
      "RENT02_M INTEGER, \n",
      "RENT02_PE INTEGER, \n",
      "RENT02_PM INTEGER, \n",
      "SXAG01_E INTEGER, \n",
      "SXAG01_M INTEGER, \n",
      "SXAG01_PE INTEGER, \n",
      "SXAG01_PM INTEGER, \n",
      "SXAG02_E INTEGER, \n",
      "SXAG02_M INTEGER, \n",
      "SXAG02_PE REAL, \n",
      "SXAG02_PM REAL, \n",
      "SXAG03_E INTEGER, \n",
      "SXAG03_M INTEGER, \n",
      "SXAG03_PE REAL, \n",
      "SXAG03_PM REAL, \n",
      "SXAG04_E REAL, \n",
      "SXAG04_M REAL, \n",
      "SXAG04_PE INTEGER, \n",
      "SXAG04_PM INTEGER, \n",
      "SXAG05_E INTEGER, \n",
      "SXAG05_M INTEGER, \n",
      "SXAG05_PE REAL, \n",
      "SXAG05_PM REAL, \n",
      "SXAG06_E INTEGER, \n",
      "SXAG06_M INTEGER, \n",
      "SXAG06_PE REAL, \n",
      "SXAG06_PM REAL, \n",
      "SXAG07_E INTEGER, \n",
      "SXAG07_M INTEGER, \n",
      "SXAG07_PE REAL, \n",
      "SXAG07_PM REAL, \n",
      "RACE01_E INTEGER, \n",
      "RACE01_M INTEGER, \n",
      "RACE01_PE INTEGER, \n",
      "RACE01_PM INTEGER, \n",
      "RACE02_E INTEGER, \n",
      "RACE02_M INTEGER, \n",
      "RACE02_PE REAL, \n",
      "RACE02_PM REAL, \n",
      "RACE03_E INTEGER, \n",
      "RACE03_M INTEGER, \n",
      "RACE03_PE REAL, \n",
      "RACE03_PM REAL, \n",
      "RACE04_E INTEGER, \n",
      "RACE04_M INTEGER, \n",
      "RACE04_PE REAL, \n",
      "RACE04_PM REAL, \n",
      "RACE05_E INTEGER, \n",
      "RACE05_M INTEGER, \n",
      "RACE05_PE REAL, \n",
      "RACE05_PM REAL, \n",
      "RACE06_E INTEGER, \n",
      "RACE06_M INTEGER, \n",
      "RACE06_PE REAL, \n",
      "RACE06_PM REAL, \n",
      "RACE07_E INTEGER, \n",
      "RACE07_M INTEGER, \n",
      "RACE07_PE REAL, \n",
      "RACE07_PM REAL, \n",
      "RACE08_E INTEGER, \n",
      "RACE08_M INTEGER, \n",
      "RACE08_PE REAL, \n",
      "RACE08_PM REAL, \n",
      "RACE09_E INTEGER, \n",
      "RACE09_M INTEGER, \n",
      "RACE09_PE REAL, \n",
      "RACE09_PM REAL, \n",
      "HISL01_E INTEGER, \n",
      "HISL01_M INTEGER, \n",
      "HISL01_PE INTEGER, \n",
      "HISL01_PM INTEGER, \n",
      "HISL02_E INTEGER, \n",
      "HISL02_M INTEGER, \n",
      "HISL02_PE REAL, \n",
      "HISL02_PM REAL, \n",
      "HISL03_E INTEGER, \n",
      "HISL03_M INTEGER, \n",
      "HISL03_PE REAL, \n",
      "HISL03_PM REAL, \n",
      "HISL04_E INTEGER, \n",
      "HISL04_M INTEGER, \n",
      "HISL04_PE REAL, \n",
      "HISL04_PM REAL, \n",
      "HISL05_E INTEGER, \n",
      "HISL05_M INTEGER, \n",
      "HISL05_PE REAL, \n",
      "HISL05_PM REAL, \n",
      "HISL06_E INTEGER, \n",
      "HISL06_M INTEGER, \n",
      "HISL06_PE REAL, \n",
      "HISL06_PM REAL, \n",
      "HISL07_E INTEGER, \n",
      "HISL07_M INTEGER, \n",
      "HISL07_PE REAL, \n",
      "HISL07_PM REAL, \n",
      "HISL08_E INTEGER, \n",
      "HISL08_M INTEGER, \n",
      "HISL08_PE REAL, \n",
      "HISL08_PM REAL, \n",
      "HISL09_E INTEGER, \n",
      "HISL09_M INTEGER, \n",
      "HISL09_PE REAL, \n",
      "HISL09_PM REAL, \n",
      "HISL10_E INTEGER, \n",
      "HISL10_M INTEGER, \n",
      "HISL10_PE REAL, \n",
      "HISL10_PM REAL, \n",
      "VOTE01_E INTEGER, \n",
      "VOTE01_M INTEGER, \n",
      "VOTE01_PE INTEGER, \n",
      "VOTE01_PM INTEGER);\n"
     ]
    }
   ],
   "source": [
    "cur.execute('DROP TABLE IF EXISTS {}'.format(tabname))\n",
    "dbstring=\"\"\"\n",
    "CREATE TABLE {} (\n",
    "GEOIDLONG TEXT NOT NULL PRIMARY KEY,\n",
    "GEOIDSHORT TEXT,\n",
    "GEOLABEL TEXT,\n",
    "\"\"\".format(tabname)\n",
    "\n",
    "for k,v in vardict.items():\n",
    "    dbstring=dbstring+k+' '+v[2]+', \\n'\n",
    "    \n",
    "dbstring=dbstring[:-3]\n",
    "dbstring=dbstring+');'\n",
    "print(dbstring)"
   ]
  },
  {
   "cell_type": "code",
   "execution_count": 24,
   "metadata": {},
   "outputs": [
    {
     "data": {
      "text/plain": [
       "<sqlite3.Cursor at 0x19c6ac16730>"
      ]
     },
     "execution_count": 24,
     "metadata": {},
     "output_type": "execute_result"
    }
   ],
   "source": [
    "cur.execute(dbstring)"
   ]
  },
  {
   "cell_type": "code",
   "execution_count": 25,
   "metadata": {},
   "outputs": [],
   "source": [
    "acsdata.to_sql(name=tabname, if_exists='append', index=True, con=con)"
   ]
  },
  {
   "cell_type": "code",
   "execution_count": 26,
   "metadata": {},
   "outputs": [
    {
     "name": "stdout",
     "output_type": "stream",
     "text": [
      "81 records written to zctas_acs2022_pophousing\n"
     ]
    }
   ],
   "source": [
    "cur.execute('SELECT COUNT(*) FROM {};'.format(tabname))\n",
    "rows = cur.fetchone()\n",
    "print(rows[0], 'records written to', tabname)"
   ]
  },
  {
   "cell_type": "code",
   "execution_count": 27,
   "metadata": {},
   "outputs": [
    {
     "name": "stdout",
     "output_type": "stream",
     "text": [
      "159 columns written to zctas_acs2022_pophousing\n"
     ]
    }
   ],
   "source": [
    "cur.execute('SELECT * FROM {} LIMIT 1;'.format(tabname))\n",
    "col_names = [cn[0] for cn in cur.description]\n",
    "print(len(col_names), 'columns written to', tabname)\n",
    "#Number should be same as number in df acsdata plus 1, since index not included in df count"
   ]
  },
  {
   "cell_type": "code",
   "execution_count": 28,
   "metadata": {},
   "outputs": [],
   "source": [
    "con.close()"
   ]
  },
  {
   "cell_type": "markdown",
   "metadata": {},
   "source": [
    "## Metadata Table\n",
    "DO NOT RERUN THIS SECTION FOR MULTIPLE GEOGRAPHIES. In the RI Geodatabase there is only one metadata table for all of the ACS tables (acs1 and acs2) for all geographies. For whichever geography is processed first, set action variable to 'create' and run this entire series of blocks for the acs1 table. For the acs2 table, set the action variable to 'append' and skip the table creation and identifier insertion blocks."
   ]
  },
  {
   "cell_type": "code",
   "execution_count": null,
   "metadata": {},
   "outputs": [],
   "source": [
    "#Change table name and specify an action - you're creating the table for the first time with acs1 variables, \n",
    "#or appending the tables with acs2 variables\n",
    "\n",
    "metatab='acs2022_lookup'\n",
    "action='' # 'create' or 'append'"
   ]
  },
  {
   "cell_type": "code",
   "execution_count": null,
   "metadata": {},
   "outputs": [],
   "source": [
    "con = sqlite3.connect(dbname) \n",
    "cur = con.cursor()"
   ]
  },
  {
   "cell_type": "code",
   "execution_count": null,
   "metadata": {},
   "outputs": [],
   "source": [
    "#Only run this block when creating initial table\n",
    "if action=='create':\n",
    "    mdstring=\"\"\"\n",
    "    CREATE TABLE {} (\n",
    "    tabnum TEXT,\n",
    "    est_id TEXT,\n",
    "    est_value TEXT);\n",
    "    \"\"\".format(metatab)\n",
    "    cur.execute(mdstring)\n",
    "else:\n",
    "    print('Block not executed because \"create\" not selected as an action in earlier block')"
   ]
  },
  {
   "cell_type": "code",
   "execution_count": null,
   "metadata": {},
   "outputs": [],
   "source": [
    "#Only run this block when creating initial table\n",
    "if action=='create':\n",
    "    exstring=\"\"\"\n",
    "        INSERT INTO {} VALUES('both','NOTE','Each variable has 4 values that are identified by a particular suffix: E for estimate, M for margin of error for the estimate, PE for percent total, and PM for margin of error for the percent total');\n",
    "        INSERT INTO {} VALUES('both','GEOIDLONG','Id');\n",
    "        INSERT INTO {} VALUES('both','GEOIDSHORT','Id2');\n",
    "        INSERT INTO {} VALUES('both','GEOLABEL','Geography');\n",
    "        \"\"\".format(metatab,metatab,metatab,metatab)\n",
    "    cur.executescript(exstring)\n",
    "    con.commit()\n",
    "else:\n",
    "    print('Block not executed because \"create\" not selected as an action in earlier block')"
   ]
  },
  {
   "cell_type": "code",
   "execution_count": null,
   "metadata": {},
   "outputs": [],
   "source": [
    "#Run when creating table or when appending records\n",
    "#Keys and values - db ids and labels - are simplified and truncated to 1 entry for each 4-column group (E,M,PC,PM)\n",
    "if action in ('create','append'):\n",
    "    for mk, mv in vardict.items():\n",
    "        if mk.endswith('_E'):\n",
    "            cur.execute(\"INSERT INTO {} values(?,?,?)\".format(metatab),(worksheet,mk[:-2],mv[1][11:]))\n",
    "    con.commit()\n",
    "else:\n",
    "    print('Block not executed because action not specified in earlier block')"
   ]
  },
  {
   "cell_type": "code",
   "execution_count": null,
   "metadata": {},
   "outputs": [],
   "source": [
    "cur.execute('SELECT COUNT(*) FROM {};'.format(metatab))\n",
    "rows = cur.fetchone()\n",
    "print(rows[0], 'records in', metatab)"
   ]
  },
  {
   "cell_type": "code",
   "execution_count": null,
   "metadata": {},
   "outputs": [],
   "source": [
    "action=''\n",
    "con.close()"
   ]
  },
  {
   "cell_type": "code",
   "execution_count": null,
   "metadata": {},
   "outputs": [],
   "source": []
  }
 ],
 "metadata": {
  "kernelspec": {
   "display_name": "Python 3 (ipykernel)",
   "language": "python",
   "name": "python3"
  },
  "language_info": {
   "codemirror_mode": {
    "name": "ipython",
    "version": 3
   },
   "file_extension": ".py",
   "mimetype": "text/x-python",
   "name": "python",
   "nbconvert_exporter": "python",
   "pygments_lexer": "ipython3",
   "version": "3.9.17"
  }
 },
 "nbformat": 4,
 "nbformat_minor": 2
}
